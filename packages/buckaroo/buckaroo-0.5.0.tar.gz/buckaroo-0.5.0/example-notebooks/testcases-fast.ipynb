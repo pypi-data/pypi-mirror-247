{
 "cells": [
  {
   "cell_type": "code",
   "execution_count": 1,
   "id": "51091834-6d31-4e0e-b13c-a7be0a02ddb4",
   "metadata": {},
   "outputs": [
    {
     "name": "stdout",
     "output_type": "stream",
     "text": [
      "Intel MKL WARNING: Support of Intel(R) Streaming SIMD Extensions 4.2 (Intel(R) SSE4.2) enabled only processors has been deprecated. Intel oneAPI Math Kernel Library 2025.0 will require Intel(R) Advanced Vector Extensions (Intel(R) AVX) instructions.\n",
      "Intel MKL WARNING: Support of Intel(R) Streaming SIMD Extensions 4.2 (Intel(R) SSE4.2) enabled only processors has been deprecated. Intel oneAPI Math Kernel Library 2025.0 will require Intel(R) Advanced Vector Extensions (Intel(R) AVX) instructions.\n"
     ]
    }
   ],
   "source": [
    "import pandas as pd\n",
    "import numpy as np\n",
    "import json\n",
    "from buckaroo.buckaroo_widget import BuckarooWidget, disable, enable\n",
    "import matplotlib"
   ]
  },
  {
   "cell_type": "code",
   "execution_count": 2,
   "id": "30063897-1b67-4507-a3b8-0d98ab0f4b9f",
   "metadata": {},
   "outputs": [
    {
     "name": "stdout",
     "output_type": "stream",
     "text": [
      "3962 566 7\n",
      "39.5 ms ± 674 µs per loop (mean ± std. dev. of 7 runs, 10 loops each)\n"
     ]
    }
   ],
   "source": [
    "df = pd.read_parquet('banklist.parquet')\n",
    "print(len(df) * len(df.columns), len(df), len(df.columns))\n",
    "%timeit bw = BuckarooWidget(df)"
   ]
  },
  {
   "cell_type": "code",
   "execution_count": 3,
   "id": "dd8b3a75-a615-402d-9c6c-fc57c2759fe4",
   "metadata": {},
   "outputs": [
    {
     "name": "stdout",
     "output_type": "stream",
     "text": [
      "83070 6390 13\n",
      "54 ms ± 1.01 ms per loop (mean ± std. dev. of 7 runs, 10 loops each)\n"
     ]
    }
   ],
   "source": [
    "df2 = pd.read_csv('death-by-suicide-hispanic.csv')\n",
    "print(len(df2) * len(df2.columns), len(df2), len(df2.columns))\n",
    "%timeit bw = BuckarooWidget(df2)"
   ]
  },
  {
   "cell_type": "code",
   "execution_count": 4,
   "id": "5e338ccf-5a61-457d-addd-bdfd8510aa86",
   "metadata": {},
   "outputs": [
    {
     "name": "stdout",
     "output_type": "stream",
     "text": [
      "168014 12001 14\n",
      "62.5 ms ± 857 µs per loop (mean ± std. dev. of 7 runs, 10 loops each)\n"
     ]
    }
   ],
   "source": [
    "df10 = pd.read_csv('Machine_readable_file_bd_employ.csv')\n",
    "print(len(df10) * len(df10.columns), len(df10), len(df10.columns))\n",
    "%timeit bw = BuckarooWidget(df10)"
   ]
  },
  {
   "cell_type": "code",
   "execution_count": 5,
   "id": "dd5b1809-5d8d-4c26-b263-165592918b2a",
   "metadata": {},
   "outputs": [
    {
     "name": "stdout",
     "output_type": "stream",
     "text": [
      "436005 48445 9\n",
      "93 ms ± 209 µs per loop (mean ± std. dev. of 7 runs, 10 loops each)\n"
     ]
    }
   ],
   "source": [
    "df9 = pd.read_csv('scorecard.csv')\n",
    "print(len(df9) * len(df9.columns), len(df9), len(df9.columns))\n",
    "%timeit bw = BuckarooWidget(df9)"
   ]
  },
  {
   "cell_type": "code",
   "execution_count": 6,
   "id": "5159536e-bad0-46cd-ba99-77c17f42dacd",
   "metadata": {},
   "outputs": [
    {
     "name": "stdout",
     "output_type": "stream",
     "text": [
      "147044529 5070501 29\n",
      "104 ms ± 581 µs per loop (mean ± std. dev. of 7 runs, 10 loops each)\n"
     ]
    }
   ],
   "source": [
    "df6 =  pd.read_parquet('1993-flights.gzip.parquet')\n",
    "print(len(df6) * len(df6.columns), len(df6), len(df6.columns))\n",
    "%timeit bw = BuckarooWidget(df6[:10_000])"
   ]
  },
  {
   "cell_type": "code",
   "execution_count": 7,
   "id": "c223dcb4-a354-4f3a-b492-e6ae33c99188",
   "metadata": {},
   "outputs": [
    {
     "name": "stdout",
     "output_type": "stream",
     "text": [
      "2000000 200000 10\n",
      "124 ms ± 719 µs per loop (mean ± std. dev. of 7 runs, 10 loops each)\n"
     ]
    }
   ],
   "source": [
    "df8 = pd.read_csv('train_extended.csv')\n",
    "print(len(df8) * len(df8.columns), len(df8), len(df8.columns))\n",
    "%timeit bw = BuckarooWidget(df8)"
   ]
  },
  {
   "cell_type": "code",
   "execution_count": 2,
   "id": "c1c73c91-0343-417a-a45f-ef5f8c39e884",
   "metadata": {},
   "outputs": [
    {
     "name": "stderr",
     "output_type": "stream",
     "text": [
      "/var/folders/th/jfr8ccjx09g2j_18ty_t3xnh0000gn/T/ipykernel_11944/805401924.py:1: DtypeWarning: Columns (2) have mixed types. Specify dtype option on import or set low_memory=False.\n",
      "  df4 = pd.read_csv('WPP2022_Demographic_Indicators_Medium.csv')\n"
     ]
    },
    {
     "name": "stdout",
     "output_type": "stream",
     "text": [
      "2912624 43472 67\n",
      "622 ms ± 9.39 ms per loop (mean ± std. dev. of 7 runs, 1 loop each)\n"
     ]
    }
   ],
   "source": [
    "df4 = pd.read_csv('WPP2022_Demographic_Indicators_Medium.csv')\n",
    "print(len(df4) * len(df4.columns), len(df4), len(df4.columns))\n",
    "%timeit bw = BuckarooWidget(df4)"
   ]
  },
  {
   "cell_type": "code",
   "execution_count": 3,
   "id": "97851149-49b4-41e2-a14f-ee9fbfcf7848",
   "metadata": {},
   "outputs": [
    {
     "name": "stdout",
     "output_type": "stream",
     "text": [
      "4506000 300400 15\n",
      "249 ms ± 7.34 ms per loop (mean ± std. dev. of 7 runs, 1 loop each)\n"
     ]
    }
   ],
   "source": [
    "df5 = pd.read_parquet('2014-01-citibike-trip-data.parquet')\n",
    "print(len(df5) * len(df5.columns), len(df5), len(df5.columns))\n",
    "%timeit bw = BuckarooWidget(df5)"
   ]
  },
  {
   "cell_type": "code",
   "execution_count": 4,
   "id": "1bb274bb-27b0-4bb4-b296-7c246ced9ce5",
   "metadata": {},
   "outputs": [
    {
     "name": "stdout",
     "output_type": "stream",
     "text": [
      "22020075 1048575 21\n",
      "395 ms ± 5.73 ms per loop (mean ± std. dev. of 7 runs, 1 loop each)\n"
     ]
    }
   ],
   "source": [
    "df3 = pd.read_parquet('Covid-data.gzip.parquet')\n",
    "print(len(df3) * len(df3.columns), len(df3), len(df3.columns))\n",
    "%timeit bw = BuckarooWidget(df3)"
   ]
  },
  {
   "cell_type": "code",
   "execution_count": 7,
   "id": "12553bd6-be53-4001-be9a-dfc939981d38",
   "metadata": {},
   "outputs": [
    {
     "name": "stdout",
     "output_type": "stream",
     "text": [
      "2.09 s ± 18.5 ms per loop (mean ± std. dev. of 7 runs, 1 loop each)\n"
     ]
    }
   ],
   "source": [
    "%timeit bw = BuckarooWidget(df6)"
   ]
  },
  {
   "cell_type": "code",
   "execution_count": null,
   "id": "257f2303-2b64-447b-8523-f8defac60cd9",
   "metadata": {},
   "outputs": [],
   "source": [
    "%prun -s cumtime "
   ]
  }
 ],
 "metadata": {
  "kernelspec": {
   "display_name": "Python 3 (ipykernel)",
   "language": "python",
   "name": "python3"
  },
  "language_info": {
   "codemirror_mode": {
    "name": "ipython",
    "version": 3
   },
   "file_extension": ".py",
   "mimetype": "text/x-python",
   "name": "python",
   "nbconvert_exporter": "python",
   "pygments_lexer": "ipython3",
   "version": "3.11.3"
  }
 },
 "nbformat": 4,
 "nbformat_minor": 5
}
