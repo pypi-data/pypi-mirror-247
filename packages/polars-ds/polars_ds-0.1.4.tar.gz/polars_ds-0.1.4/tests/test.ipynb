{
 "cells": [
  {
   "cell_type": "code",
   "execution_count": null,
   "id": "529f4422-5c3a-4bd6-abe0-a15edfc62abb",
   "metadata": {},
   "outputs": [],
   "source": [
    "import polars as pl\n",
    "import numpy as np\n",
    "import polars_ds"
   ]
  },
  {
   "cell_type": "code",
   "execution_count": null,
   "id": "2c00b757",
   "metadata": {},
   "outputs": [],
   "source": [
    "import numpy as np\n",
    "from scipy import signal\n",
    "rng = np.random.default_rng()\n",
    "\n",
    "npoints = 10\n",
    "\n",
    "noise = rng.standard_normal(npoints)\n",
    "\n",
    "x = 3 + 2*np.linspace(0, 1, npoints) + noise\n",
    "\n",
    "df = pl.DataFrame({\n",
    "    \"test\": x,\n",
    "    \"entity_id\": [1] *  5 + [2] * 5\n",
    "})\n",
    "df.head()"
   ]
  },
  {
   "cell_type": "code",
   "execution_count": null,
   "id": "a0a9731d",
   "metadata": {},
   "outputs": [],
   "source": [
    "import polars as pl\n",
    "import polars_ds\n",
    "\n",
    "df = pl.DataFrame({\n",
    "    \"test\": x,\n",
    "    \"entity_id\": [1] *  5 + [2] * 5\n",
    "})\n",
    "# And is 5x faster than Scipy.signal detrend on larger time series\n",
    "df.select(\n",
    "    pl.col(\"entity_id\"),\n",
    "    pl.col(\"test\").num_ext.detrend().over(pl.col(\"entity_id\")).alias(\"test_detrended\") # linear detrend\n",
    ")"
   ]
  },
  {
   "cell_type": "code",
   "execution_count": null,
   "id": "b5263aa7",
   "metadata": {},
   "outputs": [],
   "source": [
    "%timeit signal.detrend(x)"
   ]
  },
  {
   "cell_type": "code",
   "execution_count": null,
   "id": "e62819c1",
   "metadata": {},
   "outputs": [],
   "source": [
    "%timeit df.select(pl.col(\"test\").num_ext.detrend()).head()"
   ]
  },
  {
   "cell_type": "code",
   "execution_count": null,
   "id": "b258c159",
   "metadata": {},
   "outputs": [],
   "source": [
    "df.select(pl.col(\"test\").num_ext.detrend2()).head()"
   ]
  },
  {
   "cell_type": "code",
   "execution_count": null,
   "id": "e00071b8",
   "metadata": {},
   "outputs": [],
   "source": [
    "df = pl.DataFrame({\n",
    "    \"c\":[[0.1, 0.2], [0.5, 0.5], [-2, 2]],\n",
    "    \"z\":[[0.1, 0.2], [0.5, 0.5], [-2, 2]]\n",
    "})\n",
    "df.head()"
   ]
  },
  {
   "cell_type": "code",
   "execution_count": null,
   "metadata": {},
   "outputs": [],
   "source": [
    "df = pl.DataFrame({\n",
    "    \"a\": list(range(10)) + [None] # Reference column\n",
    "}).with_columns(\n",
    "    pl.col(\"a\").stats_ext.rand_int(low=1., high=10, respect_null=True).alias(\"rand_int\"),\n",
    "    pl.col(\"a\").stats_ext.sample_uniform(low=1., high=3.).alias(\"uniform\"),\n",
    "    pl.col(\"a\").stats_ext.sample_normal(respect_null=True).alias(\"normal1\"),\n",
    "    pl.col(\"a\").stats_ext.sample_normal(mean = 2, std = 0.5).alias(\"normal2\"),\n",
    "    pl.col(\"a\").stats_ext.sample_exp(lam = 1.0).alias(\"exp\"),\n",
    "    pl.col(\"a\").stats_ext.sample_binomial(n = 10, p = 0.5).alias(\"binomial\"),\n",
    "    pl.col(\"a\").stats_ext.rand_str(min_size = 1, max_size = 10, respect_null=True).alias(\"rand_str\")\n",
    ")\n",
    "df"
   ]
  },
  {
   "cell_type": "code",
   "execution_count": null,
   "id": "d59253e2",
   "metadata": {},
   "outputs": [],
   "source": [
    "df.select(\n",
    "    pl.col(\"a\").stats_ext.f_stats(pl.col(\"b\"), pl.col(\"c\"))\n",
    ").item(0,0)"
   ]
  },
  {
   "cell_type": "code",
   "execution_count": null,
   "id": "bf70063f",
   "metadata": {},
   "outputs": [],
   "source": [
    "\n",
    "df.select(\n",
    "    pl.col(\"a\").stats_ext.f_test(pl.col(\"b\"))\n",
    ").item(0,0)"
   ]
  },
  {
   "cell_type": "code",
   "execution_count": null,
   "id": "a7fc43a6",
   "metadata": {},
   "outputs": [],
   "source": [
    "from sklearn.feature_selection import f_regression, f_classif"
   ]
  },
  {
   "cell_type": "code",
   "execution_count": null,
   "id": "28dde110",
   "metadata": {},
   "outputs": [],
   "source": [
    "f_classif(df[\"b\"].to_numpy().reshape(-1,1), df[\"a\"].to_numpy())"
   ]
  },
  {
   "cell_type": "code",
   "execution_count": null,
   "id": "dabe70c2",
   "metadata": {},
   "outputs": [],
   "source": [
    "f_classif(df[\"c\"].to_numpy().reshape(-1,1), df[\"a\"].to_numpy())"
   ]
  },
  {
   "cell_type": "code",
   "execution_count": null,
   "metadata": {},
   "outputs": [],
   "source": [
    "df.select(\n",
    "    pl.col(\"a\").str_ext.sorensen_dice(pl.col(\"b\"))\n",
    ")"
   ]
  },
  {
   "cell_type": "code",
   "execution_count": null,
   "metadata": {},
   "outputs": [],
   "source": [
    "df.select(\n",
    "    pl.col(\"a\").num_ext.list_jaccard(pl.col(\"b\"))\n",
    ")"
   ]
  },
  {
   "cell_type": "code",
   "execution_count": null,
   "id": "a41a16a0-7559-4ec4-bddd-e98c40126f54",
   "metadata": {},
   "outputs": [],
   "source": [
    "df = pl.DataFrame({\n",
    "    \"a\":[\"a\", \"b\", \"c\", \"c\", \"c\", \"c\", \"c\", \"c\", \"c\", \"c\", \"c\", \"c\", \"c\", \"c\"],\n",
    "    \"b\":[\"a\", \"b\", \"c\", \"d\", \"d\", \"d\", \"d\", \"d\", \"d\", \"d\", \"d\", \"d\", \"d\", \"d\"]\n",
    "})\n",
    "df.head()"
   ]
  },
  {
   "cell_type": "code",
   "execution_count": null,
   "metadata": {},
   "outputs": [],
   "source": [
    "df.select(\n",
    "    pl.concat_str(pl.col(\"a\"), pl.col(\"b\"))\n",
    ")"
   ]
  },
  {
   "cell_type": "code",
   "execution_count": null,
   "metadata": {},
   "outputs": [],
   "source": [
    "df = pl.DataFrame({\n",
    "    \"a\":[\"a\", \"b\", \"c\", \"c\", \"c\", \"c\", \"c\", \"c\", \"c\", \"c\", \"c\", \"c\", \"c\", \"c\"],\n",
    "    \"b\":[\"a\", \"b\", \"c\", \"d\", \"d\", \"d\", \"d\", \"d\", \"d\", \"d\", \"d\", \"d\", \"d\", \"d\"]\n",
    "})\n",
    "vc = pl.col(\"a\").value_counts(parallel=False, sort=True)\n",
    "to_merge:pl.Expr = (\n",
    "    vc.filter(\n",
    "        vc.struct.field(\"counts\") < 3\n",
    "    ).struct.field(\"a\")\n",
    ")\n",
    "df.select(to_merge)"
   ]
  },
  {
   "cell_type": "code",
   "execution_count": null,
   "id": "2b9b48c6-c902-4b47-9fb6-698dce904eb9",
   "metadata": {},
   "outputs": [],
   "source": [
    "df.select(\n",
    "    pl.col(\"b\").str_ext.infer_infreq()\n",
    ")"
   ]
  },
  {
   "cell_type": "code",
   "execution_count": null,
   "id": "d3aa1de8-bb36-46c6-adb0-0ddbce8bcf4a",
   "metadata": {},
   "outputs": [],
   "source": []
  },
  {
   "cell_type": "code",
   "execution_count": null,
   "id": "a80b08ad-77e4-444a-8bda-b50797f2ebda",
   "metadata": {},
   "outputs": [],
   "source": [
    "df = pl.DataFrame({\n",
    "    \"actual\": np.round(np.random.random(size=100_000)).astype(np.int32),\n",
    "    \"predicted\": np.random.random(size=100_000),\n",
    "    \"dummy_groups\":[\"a\"] * 30_000 + [\"b\"] * 30_000 + [\"c\"] * 40_000\n",
    "})"
   ]
  },
  {
   "cell_type": "code",
   "execution_count": null,
   "id": "5b3632f0-06e1-4742-ab18-b0436ed5e897",
   "metadata": {},
   "outputs": [],
   "source": [
    "df.head()"
   ]
  },
  {
   "cell_type": "code",
   "execution_count": null,
   "id": "4cf6fef9-25f8-494d-8a90-a0343038fb17",
   "metadata": {},
   "outputs": [],
   "source": [
    "df.group_by(\"dummy_groups\").agg(\n",
    "    pl.col(\"actual\").num_ext.l2_loss(pl.col(\"predicted\")).alias(\"l2\"),\n",
    "    pl.col(\"actual\").num_ext.bce(pl.col(\"predicted\")).alias(\"log loss\"),\n",
    "    pl.col(\"actual\").num_ext.roc_auc(pl.col(\"predicted\")).alias(\"roc_auc\")\n",
    ")"
   ]
  },
  {
   "cell_type": "code",
   "execution_count": null,
   "id": "3230ace0-7a83-44b0-a206-93c4399e7c10",
   "metadata": {},
   "outputs": [],
   "source": [
    "%%timeit\n",
    "roc_auc_score(df[\"actual\"], df[\"predicted\"])"
   ]
  },
  {
   "cell_type": "code",
   "execution_count": null,
   "id": "e92f2d57-d548-40af-9223-7b202ef28642",
   "metadata": {},
   "outputs": [],
   "source": [
    "%%timeit\n",
    "df.select(\n",
    "    pl.col(\"actual\").num_ext.auc(pl.col(\"predicted\"))\n",
    ")"
   ]
  },
  {
   "cell_type": "markdown",
   "id": "3aef5c69-fff3-4779-9b58-f939d725f0b0",
   "metadata": {},
   "source": [
    "# Num Extensions"
   ]
  },
  {
   "cell_type": "code",
   "execution_count": null,
   "id": "38fe8a90-06e4-4dce-bf2e-cb8622b87e9d",
   "metadata": {},
   "outputs": [],
   "source": [
    "%timeit df.select(pl.col(\"f\").pow(16))\n",
    "%timeit df.select(pl.col(\"f\").num_ext.powi(16))"
   ]
  },
  {
   "cell_type": "code",
   "execution_count": null,
   "id": "366fd5a7-d7ce-4632-b793-6bf8ce9157eb",
   "metadata": {},
   "outputs": [],
   "source": [
    "# f1 = df.select(pl.col(\"f\").pow(pl.col(\"x1\")))\n",
    "# f2 = df.select(pl.col(\"f\").num_ext.powi(pl.col(\"x1\")))\n",
    "# assert_frame_equal(\n",
    "#     f1, f2\n",
    "# )"
   ]
  },
  {
   "cell_type": "code",
   "execution_count": null,
   "id": "a20e7cfa-ff4a-4af1-8a9e-75d0d03aa1b3",
   "metadata": {},
   "outputs": [],
   "source": [
    "%timeit df.select(pl.col(\"f\").pow(pl.col(\"x1\")))\n",
    "%timeit df.select(pl.col(\"f\").num_ext.powi(pl.col(\"x1\")))"
   ]
  },
  {
   "cell_type": "code",
   "execution_count": null,
   "id": "1600edff-3187-4ee8-aa7f-cb1ea7d5ef32",
   "metadata": {},
   "outputs": [],
   "source": []
  },
  {
   "cell_type": "code",
   "execution_count": null,
   "id": "b20356ee-03be-4afa-af38-2eaadcd0ff20",
   "metadata": {},
   "outputs": [],
   "source": []
  },
  {
   "cell_type": "code",
   "execution_count": null,
   "id": "1e8ee876-e049-477b-8eee-09c8cb023415",
   "metadata": {},
   "outputs": [],
   "source": []
  },
  {
   "cell_type": "code",
   "execution_count": null,
   "id": "93389503-eee4-4623-bd9c-673f298387e0",
   "metadata": {},
   "outputs": [],
   "source": []
  },
  {
   "cell_type": "code",
   "execution_count": null,
   "id": "a79e7d30-c57c-448d-93cd-e497de702610",
   "metadata": {},
   "outputs": [],
   "source": []
  },
  {
   "cell_type": "code",
   "execution_count": null,
   "id": "416d5346-e75b-4769-a953-e898d6a4d84c",
   "metadata": {},
   "outputs": [],
   "source": [
    "# FFT\n",
    "df.select(pl.col(\"f\").num_ext.fft()).unnest(\"f\").head()"
   ]
  },
  {
   "cell_type": "code",
   "execution_count": null,
   "id": "ed47b643-6bcc-43f6-9a25-82168c33e7fd",
   "metadata": {},
   "outputs": [],
   "source": [
    "# Least Square (Linear Regression)\n",
    "df.select(pl.col(\"y\").num_ext.lstsq(pl.col(\"x1\"), pl.col(\"x2\"), add_bias=False))"
   ]
  },
  {
   "cell_type": "code",
   "execution_count": null,
   "id": "0e9fb061-340d-423d-9107-772387006ff2",
   "metadata": {},
   "outputs": [],
   "source": [
    "df.group_by(\"dummy\").agg(pl.col(\"y\").num_ext.lstsq(pl.col(\"x1\"), pl.col(\"x2\"), add_bias=False))"
   ]
  },
  {
   "cell_type": "code",
   "execution_count": null,
   "id": "d8fda8ca-57e7-4e02-a3f0-283ecce66a59",
   "metadata": {},
   "outputs": [],
   "source": [
    "# Conditional Entropy, should be 0 because x1 is an ID\n",
    "df.select(pl.col(\"y\").num_ext.cond_entropy(pl.col(\"x1\")))"
   ]
  },
  {
   "cell_type": "code",
   "execution_count": null,
   "id": "cf55f007-a7c2-4a78-a93b-4d83bfefe95c",
   "metadata": {},
   "outputs": [],
   "source": [
    "# t statistics"
   ]
  },
  {
   "cell_type": "code",
   "execution_count": null,
   "id": "b78e8775-c50e-4d1f-a482-a5f76a358a9b",
   "metadata": {},
   "outputs": [],
   "source": [
    "df.select(pl.col(\"a\").num_ext.t_2samp(pl.col(\"b\")))"
   ]
  },
  {
   "cell_type": "code",
   "execution_count": null,
   "id": "bf70afa1-28f9-4227-a58f-aa49ed722e4a",
   "metadata": {},
   "outputs": [],
   "source": [
    "df.select(pl.col(\"a\").num_ext.welch_t(pl.col(\"b\"), return_df=True))"
   ]
  },
  {
   "cell_type": "code",
   "execution_count": null,
   "id": "f7c22e5e-b724-4ed9-827f-1a4f41870b8c",
   "metadata": {},
   "outputs": [],
   "source": [
    "df.group_by(\"dummy\").agg(pl.col(\"f\").num_ext.t_2samp(pl.col(\"b\")).alias(\"t\"))"
   ]
  },
  {
   "cell_type": "code",
   "execution_count": null,
   "id": "85d0d094-3c4c-4230-a589-1027c5690162",
   "metadata": {},
   "outputs": [],
   "source": []
  },
  {
   "cell_type": "markdown",
   "id": "a8d7c6e3-0f1d-45f0-9fdb-cdb303b98556",
   "metadata": {},
   "source": [
    "# Str Extension"
   ]
  },
  {
   "cell_type": "code",
   "execution_count": null,
   "id": "54ad36f9-264e-4a49-bf36-936639440edf",
   "metadata": {},
   "outputs": [],
   "source": [
    "size = 100_000\n",
    "df = pl.DataFrame({\"sen\": [\"Hello, world! I'm going to church.\"] * size, \"word\": [\"words\", \"word\"] * (size // 2)})\n",
    "df.head()"
   ]
  },
  {
   "cell_type": "code",
   "execution_count": null,
   "id": "ee123a7e-7f9b-4f48-a5d5-6354799201ab",
   "metadata": {},
   "outputs": [],
   "source": [
    "# Tokenize\n",
    "df2 = df.select(\n",
    "    pl.col(\"sen\").str.to_lowercase().str_ext.tokenize()  # .explode().unique()\n",
    ")"
   ]
  },
  {
   "cell_type": "code",
   "execution_count": null,
   "id": "33fd3141-8245-4792-a8a4-8c06713603b2",
   "metadata": {},
   "outputs": [],
   "source": [
    "df2.head()"
   ]
  },
  {
   "cell_type": "code",
   "execution_count": null,
   "id": "d4f45d3d-d3b9-4fde-9ed5-b3d01d0fa1ba",
   "metadata": {},
   "outputs": [],
   "source": []
  }
 ],
 "metadata": {
  "kernelspec": {
   "display_name": "Python 3 (ipykernel)",
   "language": "python",
   "name": "python3"
  },
  "language_info": {
   "codemirror_mode": {
    "name": "ipython",
    "version": 3
   },
   "file_extension": ".py",
   "mimetype": "text/x-python",
   "name": "python",
   "nbconvert_exporter": "python",
   "pygments_lexer": "ipython3",
   "version": "3.11.6"
  }
 },
 "nbformat": 4,
 "nbformat_minor": 5
}
