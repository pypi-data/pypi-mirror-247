{
 "cells": [
  {
   "cell_type": "code",

   "execution_count": 1,

   "metadata": {},
   "outputs": [],
   "source": [
    "import requests\n",
    "import json\n",
    "from tabulate import tabulate\n",
    "# import coki.funcs as funcs\n",
    "import funcs\n",
    "import pandas as pd\n",
    "from datetime import datetime\n",
    "import os\n",
    "import importlib\n",
    "import numpy as np"
   ]
  },
  {
   "cell_type": "code",
   "execution_count": 23,
   "metadata": {},
   "outputs": [
    {
     "data": {
      "text/plain": [
       "<module 'funcs' from 'c:\\\\Lucas\\\\Coding\\\\Github\\\\cocos-precios\\\\src\\\\coki\\\\funcs.py'>"
      ]
     },
     "execution_count": 23,
     "metadata": {},
     "output_type": "execute_result"
    }
   ],
   "source": [
    "importlib.reload(funcs)"
   ]
  },
  {
   "cell_type": "code",

   "execution_count": 24,
   "metadata": {},
   "outputs": [],
   "source": [
    "def place_order(side, long_ticker, quantity, price, order_type='limit'):\n",
    "    '''Ejecuta la orden en el mercado, en teoría ya verificados'''\n",
    "    if side.upper() not in ['BUY', 'SELL']:\n",
    "        raise ValueError('side must be BUY or SELL')\n",
    "    if order_type.upper() not in ['LIMIT', 'MARKET']:\n",
    "        raise ValueError('order_type must be LIMIT or MARKET')\n",
    "    \n",
    "    payload = {'long_ticker': long_ticker,\n",
    "               'price': float(price),\n",
    "               'quantity': int(quantity),\n",
    "               'side': side.upper(),\n",
    "               'type': order_type.upper()}\n",
    "    \n",
    "    token = funcs.token_promise()\n",
    "    account_id = funcs.account_promise(token)\n",
    "    \n",
    "    link = 'https://api.cocos.capital/api/v2/orders/'\n",
    "    \n",
    "    result = funcs.request_info(link, token, account_id, 'place_order', payload)\n",
    "    return result\n",
    "    "
   ]
  },
  {
   "cell_type": "code",
   "execution_count": 25,
   "metadata": {},
   "outputs": [
    {
     "name": "stdout",
     "output_type": "stream",
     "text": [
      "b'{\"status\":400,\"message\":\"Market is closed\"}'\n"
     ]
    },
    {
     "ename": "Exception",
     "evalue": "Error en la consulta",
     "output_type": "error",
     "traceback": [
      "\u001b[1;31m---------------------------------------------------------------------------\u001b[0m",
      "\u001b[1;31mException\u001b[0m                                 Traceback (most recent call last)",
      "\u001b[1;32m<ipython-input-25-11062689a1a0>\u001b[0m in \u001b[0;36m<module>\u001b[1;34m\u001b[0m\n\u001b[1;32m----> 1\u001b[1;33m \u001b[0mplace_order\u001b[0m\u001b[1;33m(\u001b[0m\u001b[1;34m'buy'\u001b[0m\u001b[1;33m,\u001b[0m \u001b[1;34m'KOD-0003-C-CT-USD'\u001b[0m\u001b[1;33m,\u001b[0m \u001b[1;36m10\u001b[0m\u001b[1;33m,\u001b[0m \u001b[1;36m5\u001b[0m\u001b[1;33m)\u001b[0m\u001b[1;33m\u001b[0m\u001b[1;33m\u001b[0m\u001b[0m\n\u001b[0m",
      "\u001b[1;32m<ipython-input-24-a4979b5ba745>\u001b[0m in \u001b[0;36mplace_order\u001b[1;34m(side, long_ticker, quantity, price, order_type)\u001b[0m\n\u001b[0;32m     17\u001b[0m     \u001b[0mlink\u001b[0m \u001b[1;33m=\u001b[0m \u001b[1;34m'https://api.cocos.capital/api/v2/orders/'\u001b[0m\u001b[1;33m\u001b[0m\u001b[1;33m\u001b[0m\u001b[0m\n\u001b[0;32m     18\u001b[0m \u001b[1;33m\u001b[0m\u001b[0m\n\u001b[1;32m---> 19\u001b[1;33m     \u001b[0mresult\u001b[0m \u001b[1;33m=\u001b[0m \u001b[0mfuncs\u001b[0m\u001b[1;33m.\u001b[0m\u001b[0mrequest_info\u001b[0m\u001b[1;33m(\u001b[0m\u001b[0mlink\u001b[0m\u001b[1;33m,\u001b[0m \u001b[0mtoken\u001b[0m\u001b[1;33m,\u001b[0m \u001b[0maccount_id\u001b[0m\u001b[1;33m,\u001b[0m \u001b[1;34m'place_order'\u001b[0m\u001b[1;33m,\u001b[0m \u001b[0mpayload\u001b[0m\u001b[1;33m)\u001b[0m\u001b[1;33m\u001b[0m\u001b[1;33m\u001b[0m\u001b[0m\n\u001b[0m\u001b[0;32m     20\u001b[0m     \u001b[1;32mreturn\u001b[0m \u001b[0mresult\u001b[0m\u001b[1;33m\u001b[0m\u001b[1;33m\u001b[0m\u001b[0m\n\u001b[0;32m     21\u001b[0m \u001b[1;33m\u001b[0m\u001b[0m\n",
      "\u001b[1;32mc:\\Lucas\\Coding\\Github\\cocos-precios\\src\\coki\\funcs.py\u001b[0m in \u001b[0;36mrequest_info\u001b[1;34m(link, token, account_id, info_type, payload)\u001b[0m\n\u001b[0;32m    411\u001b[0m     \u001b[1;32melse\u001b[0m\u001b[1;33m:\u001b[0m\u001b[1;33m\u001b[0m\u001b[1;33m\u001b[0m\u001b[0m\n\u001b[0;32m    412\u001b[0m         \u001b[0mprint\u001b[0m\u001b[1;33m(\u001b[0m\u001b[0mr\u001b[0m\u001b[1;33m.\u001b[0m\u001b[0mcontent\u001b[0m\u001b[1;33m)\u001b[0m\u001b[1;33m\u001b[0m\u001b[1;33m\u001b[0m\u001b[0m\n\u001b[1;32m--> 413\u001b[1;33m         \u001b[1;32mraise\u001b[0m \u001b[0mException\u001b[0m\u001b[1;33m(\u001b[0m\u001b[1;34m\"Error en la consulta\"\u001b[0m\u001b[1;33m)\u001b[0m\u001b[1;33m\u001b[0m\u001b[1;33m\u001b[0m\u001b[0m\n\u001b[0m\u001b[0;32m    414\u001b[0m \u001b[1;33m\u001b[0m\u001b[0m\n\u001b[0;32m    415\u001b[0m \u001b[1;33m\u001b[0m\u001b[0m\n",
      "\u001b[1;31mException\u001b[0m: Error en la consulta"
     ]
    }
   ],
   "source": [
    "place_order('buy', 'KOD-0003-C-CT-USD', 10, 5)"
   ]
  },
  {
   "cell_type": "code",
   "execution_count": 5,

   "metadata": {},
   "outputs": [
    {
     "name": "stdout",
     "output_type": "stream",
     "text": [

      "\t KOD - Cedear Coca Cola Company - USD - 16:35:48\n",
      "\t Last: 11.7 - High: 11.95 - Low: 11.5 - Volume: 44792\n",
      "  Cant. compra    Precio compra        Precio venta    Cant. venta\n",
      "--------------  ---------------  --  --------------  -------------\n",
      "           264            11.60               11.70           2848\n",
      "           783            11.55               11.75            961\n",
      "         10052            11.50               11.80            483\n",
      "            86            11.40               11.85           1068\n",
      "            17            11.35               11.90            265\n"

     ]
    },
    {
     "data": {
      "text/plain": [

       "({'short_ticker': 'KOD',\n",
       "  'long_ticker': 'KOD-0003-C-CT-USD',\n",
       "  'instrument_code': 'KO',\n",
       "  'ext_code_cv': 8006,\n",
       "  'instrument_name': 'Cedear Coca Cola Company',\n",
       "  'instrument_short_name': 'Coca-Cola',\n",
       "  'instrument_type': 'CEDEARS',\n",
       "  'instrument_subtype': 'OTROS',\n",
       "  'maturity': None,\n",
       "  'expires_at': None,\n",
       "  'logo_file_name': 'KO.jpg',\n",
       "  'id_venue': 'BYMA',\n",
       "  'id_session': 'CT',\n",
       "  'id_segment': 'C',\n",
       "  'settlement_days': 2,\n",
       "  'currency': 'USD',\n",
       "  'price_factor': 1,\n",
       "  'contract_size': 1,\n",
       "  'min_lot_size': 1,\n",

       "  'id_security': 15468,\n",
       "  'tick_size': 0.05,\n",
       "  'date': '2023-12-20',\n",
       "  'open': 11.95,\n",
       "  'high': 11.95,\n",
       "  'low': 11.5,\n",
       "  'close': None,\n",
       "  'prev_close': 11.7,\n",
       "  'last': 11.7,\n",
       "  'bid': 11.6,\n",
       "  'ask': 11.7,\n",
       "  'bids': [{'size': 264, 'price': 11.6},\n",
       "   {'size': 783, 'price': 11.55},\n",
       "   {'size': 10052, 'price': 11.5},\n",
       "   {'size': 86, 'price': 11.4},\n",
       "   {'size': 17, 'price': 11.35}],\n",
       "  'asks': [{'size': 2848, 'price': 11.7},\n",
       "   {'size': 961, 'price': 11.75},\n",
       "   {'size': 483, 'price': 11.8},\n",
       "   {'size': 1068, 'price': 11.85},\n",
       "   {'size': 265, 'price': 11.9}],\n",
       "  'turnover': 521287.55,\n",
       "  'volume': 44792,\n",
       "  'variation': 0,\n",
       "  'term': '48hs',\n",
       "  'id_tick_size_rule': 'BYMA_EQUITIES'},\n",
       " 'KOD-0003-C-CT-USD')"
      ]
     },
     "execution_count": 5,
     "metadata": {},
     "output_type": "execute_result"
    }
   ],
   "source": [
    "funcs.gen_table('KOD')"
   ]
  },
  {
   "cell_type": "code",
   "execution_count": 3,
   "metadata": {},
   "outputs": [],
   "source": [
    "# link = 'https://api.cocos.capital/api/v1/wallet/portfolio'\n",
    "token = funcs.get_access_token()\n",
    "account_id = funcs.get_account_id(token)"
   ]
  },
  {
   "cell_type": "code",
   "execution_count": 82,
   "metadata": {},
   "outputs": [
    {
     "data": {
      "text/plain": [
       "55743"
      ]
     },
     "execution_count": 82,
     "metadata": {},
     "output_type": "execute_result"
    }
   ],
   "source": [
    "account_id"
   ]
  },
  {
   "cell_type": "code",
   "execution_count": 59,
   "metadata": {},
   "outputs": [
    {
     "name": "stdout",
     "output_type": "stream",
     "text": [
      "\n",
      " 16:44:39 \n",
      " nicolaspcastro@gmail.com \n",
      "\n",
      "╭──────────┬────────────╮\n",
      "│  Ticker  │   Cantidad │\n",
      "├──────────┼────────────┤\n",
      "│    KO    │         25 │\n",
      "│    MA    │         20 │\n",
      "│   WMT    │          5 │\n",
      "│  GOOGL   │         35 │\n",
      "│   EWZ    │          3 │\n",
      "╰──────────┴────────────╯\n"
     ]
    }
   ],
   "source": [
    "funcs.get_portfolio(op_type = 'sell')"
   ]
  },
  {
   "cell_type": "code",
   "execution_count": 5,
   "metadata": {},
   "outputs": [
    {
     "name": "stdout",
     "output_type": "stream",
     "text": [
      "\n",
      " 16:58:53 \n",
      " nicolaspcastro@gmail.com \n",
      "\n",
      "╭──────────┬────────────╮\n",
      "│  Ticker  │   Cantidad │\n",
      "├──────────┼────────────┤\n",
      "│   AR$    │       4587 │\n",
      "│ US$ MEP  │         25 │\n",
      "╰──────────┴────────────╯\n"
     ]
    }
   ],
   "source": [
    "disponible = funcs.get_portfolio(op_type = 'buy')"
   ]
  },
  {
   "cell_type": "code",
   "execution_count": 29,
   "metadata": {},
   "outputs": [
    {
     "data": {
      "text/plain": [
       "0.00999999999999976"
      ]
     },
     "execution_count": 29,
     "metadata": {},
     "output_type": "execute_result"
    }
   ],
   "source": [
    "np.remainder(11.50,0.01)"
   ]
  },
  {
   "cell_type": "code",
   "execution_count": 31,
   "metadata": {},
   "outputs": [
    {
     "data": {
      "text/plain": [
       "1150.0"
      ]
     },
     "execution_count": 31,
     "metadata": {},
     "output_type": "execute_result"
    }
   ],
   "source": [
    "11.50/0.01"
   ]
  },
  {
   "cell_type": "code",
   "execution_count": 37,
   "metadata": {},
   "outputs": [
    {
     "data": {
      "text/plain": [
       "0.049999999999999364"
      ]
     },
     "execution_count": 37,
     "metadata": {},
     "output_type": "execute_result"
    }
   ],
   "source": [
    "11.5%0.05"
   ]
  },
  {
   "cell_type": "code",
   "execution_count": 33,
   "metadata": {},
   "outputs": [
    {
     "data": {
      "text/plain": [
       "True"
      ]
     },
     "execution_count": 33,
     "metadata": {},
     "output_type": "execute_result"
    }
   ],
   "source": [
    "np.isclose(2.31%0.01, 0, atol=0.01)"
   ]
  },
  {
   "cell_type": "code",
   "execution_count": 36,
   "metadata": {},
   "outputs": [
    {
     "data": {
      "text/plain": [
       "{'short_ticker': 'KOD',\n",
       " 'long_ticker': 'KOD-0003-C-CT-USD',\n",
       " 'instrument_code': 'KO',\n",
       " 'ext_code_cv': 8006,\n",
       " 'instrument_name': 'Cedear Coca Cola Company',\n",
       " 'instrument_short_name': 'Coca-Cola',\n",
       " 'instrument_type': 'CEDEARS',\n",
       " 'instrument_subtype': 'OTROS',\n",
       " 'maturity': None,\n",
       " 'expires_at': None,\n",
       " 'logo_file_name': 'KO.jpg',\n",
       " 'id_venue': 'BYMA',\n",
       " 'id_session': 'CT',\n",
       " 'id_segment': 'C',\n",
       " 'settlement_days': 2,\n",
       " 'currency': 'USD',\n",
       " 'price_factor': 1,\n",
       " 'contract_size': 1,\n",
       " 'min_lot_size': 1,\n",
       " 'id_security': 15468,\n",
       " 'tick_size': 0.05,\n",
       " 'date': '2023-12-20',\n",
       " 'open': 11.95,\n",
       " 'high': 11.95,\n",
       " 'low': 11.5,\n",
       " 'close': 11.6,\n",
       " 'prev_close': 11.7,\n",
       " 'last': 11.6,\n",
       " 'bid': 11.5,\n",
       " 'ask': 11.7,\n",
       " 'bids': [{'size': 90, 'price': 11.5},\n",
       "  {'size': 86, 'price': 11.4},\n",
       "  {'size': 17, 'price': 11.35},\n",
       "  {'size': 5, 'price': 11.3},\n",
       "  {'size': 9, 'price': 11.25}],\n",
       " 'asks': [{'size': 500, 'price': 11.7},\n",
       "  {'size': 961, 'price': 11.75},\n",
       "  {'size': 483, 'price': 11.8},\n",
       "  {'size': 1068, 'price': 11.85},\n",
       "  {'size': 265, 'price': 11.9}],\n",
       " 'turnover': 527872,\n",
       " 'volume': 45360,\n",
       " 'variation': -0.00854701,\n",
       " 'term': '48hs',\n",
       " 'id_tick_size_rule': 'BYMA_EQUITIES'}"
      ]
     },
     "execution_count": 36,
     "metadata": {},
     "output_type": "execute_result"
    }
   ],
   "source": [
    "data"
   ]
  },
  {
   "cell_type": "code",
   "execution_count": 41,
   "metadata": {},
   "outputs": [
    {
     "name": "stdout",
     "output_type": "stream",
     "text": [
      "\t KOD - Cedear Coca Cola Company - USD - 17:36:14\n",
      "\t Last: 11.6 - High: 11.95 - Low: 11.5 - Volume: 45360\n",
      "╭────────────────┬─────────────────┬────┬────────────────┬───────────────╮\n",
      "│   Cant. compra │   Precio compra │    │   Precio venta │   Cant. venta │\n",
      "├────────────────┼─────────────────┼────┼────────────────┼───────────────┤\n",
      "│              5 │           11.30 │    │          11.95 │           343 │\n",
      "│             10 │           10.80 │    │          12.25 │            10 │\n",
      "│             10 │            9.10 │    │          12.30 │           139 │\n",
      "│                │                 │    │          12.40 │           396 │\n",
      "│                │                 │    │          12.50 │             1 │\n",
      "╰────────────────┴─────────────────┴────┴────────────────┴───────────────╯\n"
     ]
    }
   ],
   "source": [
    "precio = 11.50\n",
    "cantidad = '100'\n",
    "# disponible = (90,80)\n",
    "data, ticker_link = funcs.gen_table('KOD')"
   ]
  },
  {
   "cell_type": "code",
   "execution_count": 38,
   "metadata": {},
   "outputs": [],
   "source": [
    "def calcula_operaciones(cantidad: str, disponible: tuple, precio: float, currency: str, data: dict):\n",
    "    \"\"\"\n",
    "    Calcula el numero de acciones a comprar o vender\n",
    "    \"\"\"\n",
    "\n",
    "    if cantidad == 'a':\n",
    "        if currency == 'USD':\n",
    "            acciones = int(disponible[1]/precio)\n",
    "        elif currency == 'ARS':\n",
    "            acciones = int(disponible[0]/precio)\n",
    "    elif cantidad[-1] == 'a':\n",
    "        acciones = int(cantidad[:-1])\n",
    "    elif cantidad[-1] == '%':\n",
    "        if currency == 'USD':\n",
    "            acciones = int(disponible[1]*int(cantidad[:-1])/100/precio)\n",
    "        elif currency == 'ARS':\n",
    "            acciones = int(disponible[0]*int(cantidad[:-1])/100/precio)\n",
    "    elif cantidad[-1] not in ['a', '%']:\n",
    "        acciones = int(int(cantidad)/precio)\n",
    "\n",
    "    assert acciones > 0, 'No se puede operar con esa cantidad'\n",
    "    if currency == 'USD':\n",
    "        assert acciones*precio > disponible[1], f'No hay suficiente dinero para operar - Disponible: {disponible[1]}'\n",
    "    elif currency == 'ARS':\n",
    "        assert acciones*precio > disponible[0], f'No hay suficiente dinero para operar - Disponible: {disponible[0]}'\n",
    "    \n",
    "    tick_size = data['tick_size']\n",
    "    assert precio/tick_size%10 == 0, f'El precio no es multiplo de ({data[\"tick_size\"]})'\n",
    "    \n",
    "    if precio > data['last']*1.05: \n",
    "        correct = input(f'El precio elegido es un 5% mayor al último operado ({data[\"last\"]}). ¿Es correcto? (S/N): ')\n",
    "        while correct not in ['S', 'N', 's', 'n']:\n",
    "            correct = input(f'El precio elegido es un 5% mayor al último operado ({data[\"last\"]}). ¿Es correcto? (S/N): ')\n",
    "        if correct in ['N', 'n']:\n",
    "            raise ValueError('Precio incorrecto')\n",
    "        \n",
    "    elif precio < data['last']*0.95:\n",
    "        correct = input(f'El precio elegido es un 5% menor al último operado ({data[\"last\"]}). ¿Es correcto? (S/N): ')\n",
    "        while correct not in ['S', 'N', 's', 'n']:\n",
    "            correct = input(f'El precio elegido es un 5% menor al último operado ({data[\"last\"]}). ¿Es correcto? (S/N): ')\n",
    "        if correct in ['N', 'n']:\n",
    "            raise ValueError('Precio incorrecto')\n",
    "            \n",
    "    return acciones\n"
   ]
  },
  {
   "cell_type": "code",
   "execution_count": 39,
   "metadata": {},
   "outputs": [],
   "source": [
    "currency = 'USD'"
   ]
  },
  {
   "cell_type": "code",
   "execution_count": 40,
   "metadata": {},
   "outputs": [
    {
     "data": {
      "text/plain": [
       "8"
      ]
     },
     "execution_count": 40,
     "metadata": {},
     "output_type": "execute_result"
    }
   ],
   "source": [
    "# pasar a función\n",
    "calcula_operaciones(cantidad, disponible, precio, currency, data)"
   ]
  }
 ],
 "metadata": {
  "kernelspec": {
   "display_name": "Python 3",
   "language": "python",
   "name": "python3"
  },
  "language_info": {
   "codemirror_mode": {
    "name": "ipython",
    "version": 3
   },
   "file_extension": ".py",
   "mimetype": "text/x-python",
   "name": "python",
   "nbconvert_exporter": "python",
   "pygments_lexer": "ipython3",
   "version": "3.9.1"
  }
 },
 "nbformat": 4,
 "nbformat_minor": 2
}
