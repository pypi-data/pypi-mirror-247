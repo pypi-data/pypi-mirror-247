{
 "cells": [
  {
   "cell_type": "code",
   "execution_count": 6,
   "metadata": {},
   "outputs": [],
   "source": [
    "import requests\n",
    "import json\n",
    "from tabulate import tabulate\n",
    "# import coki.funcs as funcs\n",
    "import funcs\n",
    "import pandas as pd\n",
    "from datetime import datetime\n",
    "import os\n",
    "import importlib"
   ]
  },
  {
   "cell_type": "code",
   "execution_count": 2,
   "metadata": {},
   "outputs": [
    {
     "name": "stdout",
     "output_type": "stream",
     "text": [
      "\t GOGLD - Cedear Google inc. - USD - 17:50:23\n",
      "\t Last: 2.33 - High: 2.35 - Low: 2.2 - Volume: 15198\n",
      "╭────────────────┬─────────────────┬────┬────────────────┬───────────────╮\n",
      "│   Cant. compra │   Precio compra │    │   Precio venta │   Cant. venta │\n",
      "├────────────────┼─────────────────┼────┼────────────────┼───────────────┤\n",
      "│             50 │            2.20 │    │           2.33 │          4602 │\n",
      "│              5 │            2.10 │    │           2.38 │           356 │\n",
      "│             58 │            2.00 │    │           2.40 │           440 │\n",
      "│             25 │            1.91 │    │           2.45 │           218 │\n",
      "│                │                 │    │           2.46 │            50 │\n",
      "╰────────────────┴─────────────────┴────┴────────────────┴───────────────╯\n"
     ]
    }
   ],
   "source": [
    "funcs.gen_table('GOGLD')"
   ]
  },
  {
   "cell_type": "code",
   "execution_count": 23,
   "metadata": {},
   "outputs": [],
   "source": [
    "def gen_table_orders(ticker=\"ALL\", filtro=\"cancelado\"):\n",
    "    orders = funcs.get_orders_link()\n",
    "\n",
    "    tables = []\n",
    "    for i in range(0, len(orders)):\n",
    "        data = orders[i]\n",
    "\n",
    "        if data[\"currency\"] == \"USD\":\n",
    "            ticker_name = data[\"ticker\"] + \"D\"\n",
    "        else:\n",
    "            ticker_name = data[\"ticker\"]\n",
    "        \n",
    "        if data[\"status\"] == 'MARKET':\n",
    "            ejecutadas = 0\n",
    "        else:\n",
    "            ejecutadas = data[\"result_quantity\"]\n",
    "        table = {\n",
    "            \"Hora\": datetime.strptime(data[\"date\"], \"%Y-%m-%dT%H:%M:%S.%f%z\")\n",
    "            .time()\n",
    "            .strftime(\"%H:%M\"),\n",
    "            \"Ticker\": ticker_name,\n",
    "            \"Estado\": data[\"status\"],\n",
    "            \"Operación\": data[\"order_type\"],\n",
    "            \"Precio\": round(data[\"set_price\"], 2),\n",
    "            \"Cantidad\": int(round(data[\"set_quantity\"], 0)),\n",
    "            \"Monto\": round(data[\"set_amount\"], 2),\n",
    "            \"Ejecutadas\": ejecutadas,\n",
    "            \"code_op\": data[\"order_id\"],\n",
    "        }\n",
    "        tables.append(table)\n",
    "\n",
    "    df = pd.DataFrame(tables)\n",
    "    df = df.copy().sort_values(by=[\"Hora\"], ascending=True).reset_index(drop=True)\n",
    "    df[\"Op\"] = df.index\n",
    "    df = df.copy().set_index(\"Op\")\n",
    "\n",
    "    df[\"Estado\"] = df[\"Estado\"].replace(\n",
    "        {\n",
    "            \"MARKET\": \"En mercado\",\n",
    "            \"CANCELLED\": \"Cancelada\",\n",
    "            \"REJECTED\": \"Rechazada\",\n",
    "            \"EXECUTED\": \"Ejecutada\",\n",
    "            \"PARTIALLY_EXECUTED\": \"Ejecutada parcialmente\",\n",
    "        }\n",
    "    )\n",
    "\n",
    "    if filtro == \"cancelado\":\n",
    "        df = df[(df[\"Estado\"] != \"Cancelada\") & (df[\"Estado\"] != \"Rechazada\")].copy()\n",
    "    elif filtro == \"ejecutado\":\n",
    "        df = df[df[\"Estado\"] == \"Ejecutada\"].copy()\n",
    "    elif filtro == \"mercado\":\n",
    "        df = df[\n",
    "            (df[\"Estado\"] == \"Ejecutada parcialmente\") | (df[\"Estado\"] == \"En mercado\")\n",
    "        ].copy()\n",
    "\n",
    "    df[\"Operación\"] = df[\"Operación\"].replace(\n",
    "        {\n",
    "            \"BUY\": \"Compra\",\n",
    "            \"SELL\": \"Venta\",\n",
    "        }\n",
    "    )\n",
    "\n",
    "    if ticker != \"ALL\":\n",
    "        df = df[df[\"Ticker\"] == ticker].copy()\n",
    "\n",
    "    df = df.sort_values(by=[\"Ticker\", \"Hora\"], ascending=False)\n",
    "\n",
    "    dict_operaciones = df[\"code_op\"].to_dict()\n",
    "\n",
    "    time_str = datetime.now().strftime(\"%H:%M:%S\")\n",
    "\n",
    "    mail = funcs.read_credentials()[0]\n",
    "\n",
    "    print(\n",
    "        \"\\n \\t \\t \\t\",\n",
    "        \"Actualizado a:\", \n",
    "        time_str,\n",
    "        \"-\",\n",
    "        \" Cuenta:\",\n",
    "        mail,\n",
    "        \"\\n\"\n",
    "    )\n",
    "    \n",
    "    print(\n",
    "        tabulate(\n",
    "            df[df.columns[:-1]],\n",
    "            headers=\"keys\",\n",
    "            tablefmt=\"rounded_outline\",\n",
    "            floatfmt=\".2f\",\n",
    "            stralign=\"center\",\n",
    "        )\n",
    "    )\n",
    "    return dict_operaciones\n"
   ]
  },
  {
   "cell_type": "code",
   "execution_count": 24,
   "metadata": {},
   "outputs": [
    {
     "name": "stdout",
     "output_type": "stream",
     "text": [
      "\n",
      " \t \t \t Actualizado a: 18:23:00 -  Cuenta: nicolaspcastro@gmail.com \n",
      "\n",
      "╭──────┬────────┬──────────┬───────────┬─────────────┬──────────┬────────────┬─────────┬──────────────╮\n",
      "│   Op │  Hora  │  Ticker  │  Estado   │  Operación  │   Precio │   Cantidad │   Monto │   Ejecutadas │\n",
      "├──────┼────────┼──────────┼───────────┼─────────────┼──────────┼────────────┼─────────┼──────────────┤\n",
      "│   15 │ 12:14  │  TSLAD   │ Ejecutada │    Venta    │    16.90 │         10 │  169.00 │           10 │\n",
      "│   12 │ 11:43  │  TSLAD   │ Ejecutada │   Compra    │    16.65 │         10 │  166.50 │           10 │\n",
      "│   34 │ 15:52  │  METAD   │ Ejecutada │    Venta    │    14.05 │         15 │  210.75 │           15 │\n",
      "│   28 │ 14:32  │  METAD   │ Ejecutada │   Compra    │    13.95 │         15 │  209.25 │           15 │\n",
      "│   33 │ 15:52  │  MELID   │ Ejecutada │    Venta    │    26.50 │         15 │  397.50 │           15 │\n",
      "│   30 │ 15:08  │  MELID   │ Ejecutada │   Compra    │    26.40 │         15 │  396.00 │           15 │\n",
      "│   27 │ 14:29  │  MELID   │ Ejecutada │    Venta    │    26.50 │         10 │  265.00 │           10 │\n",
      "│   17 │ 12:51  │  MELID   │ Ejecutada │   Compra    │    26.40 │         10 │  264.00 │           10 │\n",
      "│    8 │ 11:33  │  MELID   │ Ejecutada │    Venta    │    26.50 │          9 │  238.50 │            9 │\n",
      "│   35 │ 16:29  │   KOD    │ Ejecutada │    Venta    │    11.80 │         23 │  271.40 │           23 │\n",
      "│   32 │ 15:44  │   KOD    │ Ejecutada │   Compra    │    11.70 │         23 │  269.10 │           23 │\n",
      "│   31 │ 15:25  │   KOD    │ Ejecutada │    Venta    │    11.75 │        100 │ 1175.00 │          100 │\n",
      "│   29 │ 14:54  │   KOD    │ Ejecutada │   Compra    │    11.70 │        100 │ 1170.00 │          100 │\n",
      "│   23 │ 13:29  │   KOD    │ Ejecutada │    Venta    │    11.70 │         43 │  503.10 │           43 │\n",
      "│   20 │ 13:10  │   KOD    │ Ejecutada │    Venta    │    11.70 │         37 │  432.90 │           37 │\n",
      "│   18 │ 13:00  │   KOD    │ Ejecutada │    Venta    │    11.70 │         20 │  234.00 │           20 │\n",
      "│   16 │ 12:32  │   KOD    │ Ejecutada │   Compra    │    11.65 │        100 │ 1165.00 │          100 │\n",
      "│   10 │ 11:39  │   KOD    │ Ejecutada │    Venta    │    11.75 │        100 │ 1175.00 │          100 │\n",
      "│    6 │ 11:32  │   KOD    │ Ejecutada │   Compra    │    11.70 │        100 │ 1170.00 │          100 │\n",
      "│    5 │ 11:29  │   KOD    │ Ejecutada │    Venta    │    11.80 │          4 │   47.20 │            4 │\n",
      "│    4 │ 11:22  │   KOD    │ Ejecutada │    Venta    │    11.80 │         96 │ 1133.45 │           96 │\n",
      "│    2 │ 11:18  │   KOD    │ Ejecutada │   Compra    │    11.70 │        100 │ 1170.00 │          100 │\n",
      "│    0 │ 11:16  │   KOD    │ Ejecutada │    Venta    │    11.80 │          9 │  106.20 │            9 │\n",
      "│   26 │ 14:27  │  GOOGLD  │ Ejecutada │    Venta    │     2.30 │         51 │  117.30 │           51 │\n",
      "│   25 │ 13:50  │  GOOGLD  │ Ejecutada │    Venta    │     2.30 │         49 │  112.70 │           49 │\n",
      "│   21 │ 13:12  │  GOOGLD  │ Ejecutada │   Compra    │     2.28 │        100 │  228.00 │          100 │\n",
      "│   13 │ 11:52  │  GOOGLD  │ Ejecutada │    Venta    │     2.24 │        100 │  224.00 │          100 │\n",
      "│   11 │ 11:42  │  GOOGLD  │ Ejecutada │   Compra    │     2.23 │        100 │  223.00 │          100 │\n",
      "│    9 │ 11:39  │  GOOGLD  │ Ejecutada │    Venta    │     2.25 │        100 │  225.00 │          100 │\n",
      "│    7 │ 11:33  │  GOOGLD  │ Ejecutada │   Compra    │     2.23 │        100 │  223.00 │          100 │\n",
      "╰──────┴────────┴──────────┴───────────┴─────────────┴──────────┴────────────┴─────────┴──────────────╯\n"
     ]
    }
   ],
   "source": [
    "data = gen_table_orders()"
   ]
  },
  {
   "cell_type": "code",
   "execution_count": 12,
   "metadata": {},
   "outputs": [
    {
     "data": {
      "text/plain": [
       "{'id': '31e77750-e0d8-4d34-a8a7-6999525f7ea3',\n",
       " 'tier': 'FREE',\n",
       " 'first_name': 'NICOLAS PAULINO',\n",
       " 'middle_name': None,\n",
       " 'last_name': 'CASTRO',\n",
       " 'cuit': '20367198932',\n",
       " 'dni': '36719893',\n",
       " 'phone': '+5492966595871',\n",
       " 'email': 'nicolaspcastro@gmail.com',\n",
       " 'birth_date': '1992-10-14',\n",
       " 'street_name': 'MONSEÑOR FAGNANO',\n",
       " 'street_number': '252',\n",
       " 'floor': '',\n",
       " 'apartment': '',\n",
       " 'state_name': 'SANTA CRUZ',\n",
       " 'zip_code': '9400',\n",
       " 'bot_on': True,\n",
       " 'last_bot_sign_in': None,\n",
       " 'dark_theme': False,\n",
       " 'is_active': True,\n",
       " 'id_accounts': [55743],\n",
       " 'status_onboarding': 'true',\n",
       " 'favoritesLists': [{'id_list': 'fbd07022-a3b2-48c9-83a3-b8e16ec22844',\n",
       "   'name': 'Favoritos'}]}"
      ]
     },
     "execution_count": 12,
     "metadata": {},
     "output_type": "execute_result"
    }
   ],
   "source": [
    "link = \"https://api.cocos.capital/api/v1/users/me\"\n",
    "token = funcs.token_promise()\n",
    "j = funcs.request_info(link, token, info_type='account')\n",
    "j"
   ]
  }
 ],
 "metadata": {
  "kernelspec": {
   "display_name": "Python 3",
   "language": "python",
   "name": "python3"
  },
  "language_info": {
   "codemirror_mode": {
    "name": "ipython",
    "version": 3
   },
   "file_extension": ".py",
   "mimetype": "text/x-python",
   "name": "python",
   "nbconvert_exporter": "python",
   "pygments_lexer": "ipython3",
   "version": "3.9.10"
  }
 },
 "nbformat": 4,
 "nbformat_minor": 2
}
