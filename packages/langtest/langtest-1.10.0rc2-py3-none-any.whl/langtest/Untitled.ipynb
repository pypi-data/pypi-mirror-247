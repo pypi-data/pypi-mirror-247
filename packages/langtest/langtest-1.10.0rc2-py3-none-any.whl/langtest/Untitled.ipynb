{
 "cells": [
  {
   "cell_type": "code",
   "execution_count": 1,
   "id": "07898681",
   "metadata": {},
   "outputs": [],
   "source": [
    "import sys\n",
    "sys.path.insert(0,\"..\")"
   ]
  },
  {
   "cell_type": "code",
   "execution_count": 2,
   "id": "7689fe25",
   "metadata": {},
   "outputs": [],
   "source": [
    "from langtest import Harness"
   ]
  },
  {
   "cell_type": "code",
   "execution_count": 3,
   "id": "961653da",
   "metadata": {},
   "outputs": [
    {
     "name": "stdout",
     "output_type": "stream",
     "text": [
      "Defaulting to user installation because normal site-packages is not writeable\n",
      "Requirement already satisfied: johnsnowlabs in c:\\users\\devel\\appdata\\roaming\\python\\python310\\site-packages (4.4.7)\n",
      "Requirement already satisfied: numpy in c:\\programdata\\anaconda3\\lib\\site-packages (from johnsnowlabs) (1.23.5)\n",
      "Requirement already satisfied: nlu-tmp==4.2.1 in c:\\users\\devel\\appdata\\roaming\\python\\python310\\site-packages (from johnsnowlabs) (4.2.1)\n",
      "Requirement already satisfied: pydantic in c:\\users\\devel\\appdata\\roaming\\python\\python310\\site-packages (from johnsnowlabs) (1.10.7)\n",
      "Requirement already satisfied: requests in c:\\users\\devel\\appdata\\roaming\\python\\python310\\site-packages (from johnsnowlabs) (2.29.0)\n",
      "Requirement already satisfied: spark-nlp==4.4.1 in c:\\users\\devel\\appdata\\roaming\\python\\python310\\site-packages (from johnsnowlabs) (4.4.1)\n",
      "Requirement already satisfied: dataclasses in c:\\users\\devel\\appdata\\roaming\\python\\python310\\site-packages (from johnsnowlabs) (0.6)\n",
      "Requirement already satisfied: databricks-api in c:\\users\\devel\\appdata\\roaming\\python\\python310\\site-packages (from johnsnowlabs) (0.9.0)\n",
      "Requirement already satisfied: colorama in c:\\users\\devel\\appdata\\roaming\\python\\python310\\site-packages (from johnsnowlabs) (0.4.6)\n",
      "Requirement already satisfied: spark-nlp-display==4.1 in c:\\users\\devel\\appdata\\roaming\\python\\python310\\site-packages (from johnsnowlabs) (4.1)\n",
      "Requirement already satisfied: pyspark==3.1.2 in c:\\users\\devel\\appdata\\roaming\\python\\python310\\site-packages (from johnsnowlabs) (3.1.2)\n",
      "Requirement already satisfied: pandas>=1.3.5 in c:\\programdata\\anaconda3\\lib\\site-packages (from nlu-tmp==4.2.1->johnsnowlabs) (1.5.3)\n",
      "Requirement already satisfied: pyarrow>=0.16.0 in c:\\users\\devel\\appdata\\roaming\\python\\python310\\site-packages (from nlu-tmp==4.2.1->johnsnowlabs) (12.0.0)\n",
      "Requirement already satisfied: py4j==0.10.9 in c:\\users\\devel\\appdata\\roaming\\python\\python310\\site-packages (from pyspark==3.1.2->johnsnowlabs) (0.10.9)\n",
      "Requirement already satisfied: ipython in c:\\programdata\\anaconda3\\lib\\site-packages (from spark-nlp-display==4.1->johnsnowlabs) (8.10.0)\n",
      "Requirement already satisfied: svgwrite==1.4 in c:\\users\\devel\\appdata\\roaming\\python\\python310\\site-packages (from spark-nlp-display==4.1->johnsnowlabs) (1.4)\n",
      "Requirement already satisfied: databricks-cli in c:\\users\\devel\\appdata\\roaming\\python\\python310\\site-packages (from databricks-api->johnsnowlabs) (0.17.7)\n",
      "Requirement already satisfied: typing-extensions>=4.2.0 in c:\\users\\devel\\appdata\\roaming\\python\\python310\\site-packages (from pydantic->johnsnowlabs) (4.5.0)\n",
      "Requirement already satisfied: idna<4,>=2.5 in c:\\programdata\\anaconda3\\lib\\site-packages (from requests->johnsnowlabs) (3.4)\n",
      "Requirement already satisfied: charset-normalizer<4,>=2 in c:\\programdata\\anaconda3\\lib\\site-packages (from requests->johnsnowlabs) (2.0.4)\n",
      "Requirement already satisfied: urllib3<1.27,>=1.21.1 in c:\\programdata\\anaconda3\\lib\\site-packages (from requests->johnsnowlabs) (1.26.14)\n",
      "Requirement already satisfied: certifi>=2017.4.17 in c:\\programdata\\anaconda3\\lib\\site-packages (from requests->johnsnowlabs) (2023.5.7)\n",
      "Requirement already satisfied: python-dateutil>=2.8.1 in c:\\programdata\\anaconda3\\lib\\site-packages (from pandas>=1.3.5->nlu-tmp==4.2.1->johnsnowlabs) (2.8.2)\n",
      "Requirement already satisfied: pytz>=2020.1 in c:\\programdata\\anaconda3\\lib\\site-packages (from pandas>=1.3.5->nlu-tmp==4.2.1->johnsnowlabs) (2022.7)\n",
      "Requirement already satisfied: pyjwt>=1.7.0 in c:\\programdata\\anaconda3\\lib\\site-packages (from databricks-cli->databricks-api->johnsnowlabs) (2.4.0)\n",
      "Requirement already satisfied: tabulate>=0.7.7 in c:\\programdata\\anaconda3\\lib\\site-packages (from databricks-cli->databricks-api->johnsnowlabs) (0.8.10)\n",
      "Requirement already satisfied: six>=1.10.0 in c:\\programdata\\anaconda3\\lib\\site-packages (from databricks-cli->databricks-api->johnsnowlabs) (1.16.0)\n",
      "Requirement already satisfied: oauthlib>=3.1.0 in c:\\users\\devel\\appdata\\roaming\\python\\python310\\site-packages (from databricks-cli->databricks-api->johnsnowlabs) (3.2.2)\n",
      "Requirement already satisfied: click>=7.0 in c:\\users\\devel\\appdata\\roaming\\python\\python310\\site-packages (from databricks-cli->databricks-api->johnsnowlabs) (8.1.3)\n",
      "Requirement already satisfied: stack-data in c:\\programdata\\anaconda3\\lib\\site-packages (from ipython->spark-nlp-display==4.1->johnsnowlabs) (0.2.0)\n",
      "Requirement already satisfied: decorator in c:\\programdata\\anaconda3\\lib\\site-packages (from ipython->spark-nlp-display==4.1->johnsnowlabs) (5.1.1)\n",
      "Requirement already satisfied: backcall in c:\\programdata\\anaconda3\\lib\\site-packages (from ipython->spark-nlp-display==4.1->johnsnowlabs) (0.2.0)\n",
      "Requirement already satisfied: traitlets>=5 in c:\\programdata\\anaconda3\\lib\\site-packages (from ipython->spark-nlp-display==4.1->johnsnowlabs) (5.7.1)\n",
      "Requirement already satisfied: jedi>=0.16 in c:\\programdata\\anaconda3\\lib\\site-packages (from ipython->spark-nlp-display==4.1->johnsnowlabs) (0.18.1)\n",
      "Requirement already satisfied: pickleshare in c:\\programdata\\anaconda3\\lib\\site-packages (from ipython->spark-nlp-display==4.1->johnsnowlabs) (0.7.5)\n",
      "Requirement already satisfied: prompt-toolkit<3.1.0,>=3.0.30 in c:\\programdata\\anaconda3\\lib\\site-packages (from ipython->spark-nlp-display==4.1->johnsnowlabs) (3.0.36)\n",
      "Requirement already satisfied: pygments>=2.4.0 in c:\\users\\devel\\appdata\\roaming\\python\\python310\\site-packages (from ipython->spark-nlp-display==4.1->johnsnowlabs) (2.15.1)\n",
      "Requirement already satisfied: matplotlib-inline in c:\\programdata\\anaconda3\\lib\\site-packages (from ipython->spark-nlp-display==4.1->johnsnowlabs) (0.1.6)\n",
      "Requirement already satisfied: parso<0.9.0,>=0.8.0 in c:\\programdata\\anaconda3\\lib\\site-packages (from jedi>=0.16->ipython->spark-nlp-display==4.1->johnsnowlabs) (0.8.3)\n",
      "Requirement already satisfied: wcwidth in c:\\programdata\\anaconda3\\lib\\site-packages (from prompt-toolkit<3.1.0,>=3.0.30->ipython->spark-nlp-display==4.1->johnsnowlabs) (0.2.5)\n",
      "Requirement already satisfied: pure-eval in c:\\programdata\\anaconda3\\lib\\site-packages (from stack-data->ipython->spark-nlp-display==4.1->johnsnowlabs) (0.2.2)\n",
      "Requirement already satisfied: asttokens in c:\\programdata\\anaconda3\\lib\\site-packages (from stack-data->ipython->spark-nlp-display==4.1->johnsnowlabs) (2.0.5)\n",
      "Requirement already satisfied: executing in c:\\programdata\\anaconda3\\lib\\site-packages (from stack-data->ipython->spark-nlp-display==4.1->johnsnowlabs) (0.8.3)\n"
     ]
    }
   ],
   "source": [
    "!pip install johnsnowlabs"
   ]
  },
  {
   "cell_type": "code",
   "execution_count": 4,
   "id": "83498233",
   "metadata": {},
   "outputs": [
    {
     "name": "stderr",
     "output_type": "stream",
     "text": [
      "'wget' is not recognized as an internal or external command,\n",
      "operable program or batch file.\n",
      "'wget' is not recognized as an internal or external command,\n",
      "operable program or batch file.\n"
     ]
    }
   ],
   "source": [
    "# Load test CoNLL\n",
    "!wget https://raw.githubusercontent.com/JohnSnowLabs/langtest/main/langtest/data/conll/sample.conll\n",
    "\n",
    "# Load train CoNLL\n",
    "!wget https://raw.githubusercontent.com/JohnSnowLabs/langtest/main/demo/data/conll03.conll"
   ]
  },
  {
   "cell_type": "code",
   "execution_count": 5,
   "id": "e686a18a",
   "metadata": {},
   "outputs": [
    {
     "name": "stdout",
     "output_type": "stream",
     "text": [
      "🚨 Outdated Medical Secrets in license file. Version=5.0.2 but should be Version=4.4.3\n",
      "🚨 Outdated OCR Secrets in license file. Version=5.0.0 but should be Version=4.4.2\n",
      "📋 Loading license number 0 from C:\\Users\\devel/.johnsnowlabs\\licenses/license_number_0_for_Spark-Healthcare_Spark-OCR.json\n",
      "👷 Setting up  John Snow Labs home in C:\\Users\\devel/.johnsnowlabs, this might take a few minutes.\n",
      "Downloading 🫘+🚀 Java Library spark-nlp-assembly-4.4.1.jar\n",
      "🙆 JSL Home setup in C:\\Users\\devel/.johnsnowlabs\n",
      "🤓 Looks like you are missing some jars, trying fetching them ...\n",
      "🚨 Cannot install 💊Spark-Healthcare because provided license file secret is outdated or it is invalid.\n",
      "How to Fix this: \n",
      "Option1: Run \u001b[92mnlp.install(force_browser=True)\u001b[39m to get a Browser Window pop-up where you can refresh your license data\n",
      "Option2: Run \u001b[92mnlp.install(json_license_path=\"path/to/fresh_credentials.json\")\u001b[39m after downloading a fresh license from https://my.johnsnowlabs.com/subscriptions   \n",
      "Option3: Run \u001b[92mnlp.install(refresh_install=True,force_browser=True)\u001b[39m to refresh everything \n",
      "Option4: Set \u001b[92mnlp.settings.enforce_versions=False\u001b[39m and run\u001b[92m nlp.install(refresh_install=True,force_browser=True)\u001b[39m to disable this protection mechanism and try to install anyways. Not Recommended, can yield unforeseen consequences \n",
      "\n"
     ]
    },
    {
     "ename": "Exception",
     "evalue": "🚨 Cannot install 💊Spark-Healthcare because provided license file secret is outdated or it is invalid.\nHow to Fix this: \nOption1: Run \u001b[92mnlp.install(force_browser=True)\u001b[39m to get a Browser Window pop-up where you can refresh your license data\nOption2: Run \u001b[92mnlp.install(json_license_path=\"path/to/fresh_credentials.json\")\u001b[39m after downloading a fresh license from https://my.johnsnowlabs.com/subscriptions   \nOption3: Run \u001b[92mnlp.install(refresh_install=True,force_browser=True)\u001b[39m to refresh everything \nOption4: Set \u001b[92mnlp.settings.enforce_versions=False\u001b[39m and run\u001b[92m nlp.install(refresh_install=True,force_browser=True)\u001b[39m to disable this protection mechanism and try to install anyways. Not Recommended, can yield unforeseen consequences \n",
     "output_type": "error",
     "traceback": [
      "\u001b[1;31m---------------------------------------------------------------------------\u001b[0m",
      "\u001b[1;31mValueError\u001b[0m                                Traceback (most recent call last)",
      "File \u001b[1;32m~\\AppData\\Roaming\\Python\\Python310\\site-packages\\johnsnowlabs\\auto_install\\jsl_home.py:70\u001b[0m, in \u001b[0;36mdownload_deps_and_create_info\u001b[1;34m(deps, lib_dir, info_file_path, overwrite)\u001b[0m\n\u001b[0;32m     69\u001b[0m \u001b[38;5;28;01mtry\u001b[39;00m:\n\u001b[1;32m---> 70\u001b[0m     \u001b[43mp\u001b[49m\u001b[38;5;241;43m.\u001b[39;49m\u001b[43mdownload_url\u001b[49m\u001b[43m(\u001b[49m\u001b[43mlib_dir\u001b[49m\u001b[43m,\u001b[49m\u001b[43m \u001b[49m\u001b[43mname_print_prefix\u001b[49m\u001b[38;5;241;43m=\u001b[39;49m\u001b[43mprint_prefix\u001b[49m\u001b[43m)\u001b[49m\n\u001b[0;32m     71\u001b[0m \u001b[38;5;28;01mexcept\u001b[39;00m \u001b[38;5;167;01mValueError\u001b[39;00m \u001b[38;5;28;01mas\u001b[39;00m _:\n\u001b[0;32m     72\u001b[0m     \u001b[38;5;66;03m# sys.tracebacklimit = 0\u001b[39;00m\n",
      "File \u001b[1;32m~\\AppData\\Roaming\\Python\\Python310\\site-packages\\johnsnowlabs\\py_models\\url_dependency.py:52\u001b[0m, in \u001b[0;36mUrlDependency.download_url\u001b[1;34m(self, save_path, name_print_prefix, keep_default_file_name)\u001b[0m\n\u001b[0;32m     51\u001b[0m \u001b[38;5;28;01mif\u001b[39;00m \u001b[38;5;129;01mnot\u001b[39;00m \u001b[38;5;28mself\u001b[39m\u001b[38;5;241m.\u001b[39mvalidate():\n\u001b[1;32m---> 52\u001b[0m     \u001b[38;5;28;01mraise\u001b[39;00m \u001b[38;5;167;01mValueError\u001b[39;00m(\u001b[38;5;124mf\u001b[39m\u001b[38;5;124m\"\u001b[39m\u001b[38;5;124mTrying to download Invalid URL! \u001b[39m\u001b[38;5;132;01m{\u001b[39;00m\u001b[38;5;28mself\u001b[39m\u001b[38;5;241m.\u001b[39murl\u001b[38;5;132;01m}\u001b[39;00m\u001b[38;5;124m\"\u001b[39m)\n\u001b[0;32m     53\u001b[0m \u001b[38;5;28;01mif\u001b[39;00m keep_default_file_name:\n",
      "\u001b[1;31mValueError\u001b[0m: Trying to download Invalid URL! https://pypi.johnsnowlabs.com/5.0.2-2edb671dfc23389dc2b428f9c49244415b340f34/spark-nlp-jsl-4.4.3.jar",
      "\nDuring handling of the above exception, another exception occurred:\n",
      "\u001b[1;31mException\u001b[0m                                 Traceback (most recent call last)",
      "Cell \u001b[1;32mIn[5], line 2\u001b[0m\n\u001b[0;32m      1\u001b[0m \u001b[38;5;28;01mfrom\u001b[39;00m \u001b[38;5;21;01mjohnsnowlabs\u001b[39;00m \u001b[38;5;28;01mimport\u001b[39;00m nlp\n\u001b[1;32m----> 2\u001b[0m spark \u001b[38;5;241m=\u001b[39m \u001b[43mnlp\u001b[49m\u001b[38;5;241;43m.\u001b[39;49m\u001b[43mstart\u001b[49m\u001b[43m(\u001b[49m\u001b[43m)\u001b[49m\n",
      "File \u001b[1;32m~\\AppData\\Roaming\\Python\\Python310\\site-packages\\johnsnowlabs\\utils\\sparksession_utils.py:96\u001b[0m, in \u001b[0;36mstart\u001b[1;34m(browser_login, access_token, json_license_path, aws_access_key, aws_key_id, enterprise_nlp_secret, visual_secret, hc_license, ocr_license, fin_license, leg_license, remote_license_number, local_license_number, store_in_jsl_home, spark_conf, master_url, jar_paths, spark_nlp, nlp, visual, hardware_target, model_cache_folder, create_jsl_home_if_missing)\u001b[0m\n\u001b[0;32m     93\u001b[0m hardware_target \u001b[38;5;241m=\u001b[39m JvmHardwareTarget\u001b[38;5;241m.\u001b[39mfrom_str(hardware_target)\n\u001b[0;32m     95\u001b[0m \u001b[38;5;66;03m# Get all Local Jar Paths, downloads them if missing\u001b[39;00m\n\u001b[1;32m---> 96\u001b[0m suite \u001b[38;5;241m=\u001b[39m \u001b[43mget_install_suite_from_jsl_home\u001b[49m\u001b[43m(\u001b[49m\n\u001b[0;32m     97\u001b[0m \u001b[43m    \u001b[49m\u001b[43mcreate_jsl_home_if_missing\u001b[49m\u001b[38;5;241;43m=\u001b[39;49m\u001b[43mcreate_jsl_home_if_missing\u001b[49m\u001b[43m,\u001b[49m\n\u001b[0;32m     98\u001b[0m \u001b[43m    \u001b[49m\u001b[43monly_jars\u001b[49m\u001b[38;5;241;43m=\u001b[39;49m\u001b[38;5;28;43;01mTrue\u001b[39;49;00m\u001b[43m,\u001b[49m\n\u001b[0;32m     99\u001b[0m \u001b[43m    \u001b[49m\u001b[43mjvm_hardware_target\u001b[49m\u001b[38;5;241;43m=\u001b[39;49m\u001b[43mhardware_target\u001b[49m\u001b[43m,\u001b[49m\n\u001b[0;32m    100\u001b[0m \u001b[43m    \u001b[49m\u001b[43mforce_browser\u001b[49m\u001b[38;5;241;43m=\u001b[39;49m\u001b[43mbrowser_login\u001b[49m\u001b[43m,\u001b[49m\n\u001b[0;32m    101\u001b[0m \u001b[43m    \u001b[49m\u001b[43mbrowser_login\u001b[49m\u001b[38;5;241;43m=\u001b[39;49m\u001b[43mbrowser_login\u001b[49m\u001b[43m,\u001b[49m\n\u001b[0;32m    102\u001b[0m \u001b[43m    \u001b[49m\u001b[43maccess_token\u001b[49m\u001b[38;5;241;43m=\u001b[39;49m\u001b[43maccess_token\u001b[49m\u001b[43m,\u001b[49m\n\u001b[0;32m    103\u001b[0m \u001b[43m    \u001b[49m\u001b[43mlocal_license_number\u001b[49m\u001b[38;5;241;43m=\u001b[39;49m\u001b[43mlocal_license_number\u001b[49m\u001b[43m,\u001b[49m\n\u001b[0;32m    104\u001b[0m \u001b[43m    \u001b[49m\u001b[43mremote_license_number\u001b[49m\u001b[38;5;241;43m=\u001b[39;49m\u001b[43mremote_license_number\u001b[49m\u001b[43m,\u001b[49m\n\u001b[0;32m    105\u001b[0m \u001b[43m    \u001b[49m\u001b[43msecrets_file\u001b[49m\u001b[38;5;241;43m=\u001b[39;49m\u001b[43mjson_license_path\u001b[49m\u001b[43m,\u001b[49m\n\u001b[0;32m    106\u001b[0m \u001b[43m    \u001b[49m\u001b[43mhc_license\u001b[49m\u001b[38;5;241;43m=\u001b[39;49m\u001b[43mhc_license\u001b[49m\u001b[43m,\u001b[49m\n\u001b[0;32m    107\u001b[0m \u001b[43m    \u001b[49m\u001b[43mhc_secret\u001b[49m\u001b[38;5;241;43m=\u001b[39;49m\u001b[43menterprise_nlp_secret\u001b[49m\u001b[43m,\u001b[49m\n\u001b[0;32m    108\u001b[0m \u001b[43m    \u001b[49m\u001b[43mocr_secret\u001b[49m\u001b[38;5;241;43m=\u001b[39;49m\u001b[43mvisual_secret\u001b[49m\u001b[43m,\u001b[49m\n\u001b[0;32m    109\u001b[0m \u001b[43m    \u001b[49m\u001b[43mocr_license\u001b[49m\u001b[38;5;241;43m=\u001b[39;49m\u001b[43mocr_license\u001b[49m\u001b[43m,\u001b[49m\n\u001b[0;32m    110\u001b[0m \u001b[43m    \u001b[49m\u001b[43maws_access_key\u001b[49m\u001b[38;5;241;43m=\u001b[39;49m\u001b[43maws_access_key\u001b[49m\u001b[43m,\u001b[49m\n\u001b[0;32m    111\u001b[0m \u001b[43m    \u001b[49m\u001b[43maws_key_id\u001b[49m\u001b[38;5;241;43m=\u001b[39;49m\u001b[43maws_key_id\u001b[49m\u001b[43m,\u001b[49m\n\u001b[0;32m    112\u001b[0m \u001b[43m    \u001b[49m\u001b[43mfin_license\u001b[49m\u001b[38;5;241;43m=\u001b[39;49m\u001b[43mfin_license\u001b[49m\u001b[43m,\u001b[49m\n\u001b[0;32m    113\u001b[0m \u001b[43m    \u001b[49m\u001b[43mleg_license\u001b[49m\u001b[38;5;241;43m=\u001b[39;49m\u001b[43mleg_license\u001b[49m\u001b[43m,\u001b[49m\n\u001b[0;32m    114\u001b[0m \u001b[43m    \u001b[49m\u001b[43mstore_in_jsl_home\u001b[49m\u001b[38;5;241;43m=\u001b[39;49m\u001b[43mstore_in_jsl_home\u001b[49m\u001b[43m,\u001b[49m\n\u001b[0;32m    115\u001b[0m \u001b[43m\u001b[49m\u001b[43m)\u001b[49m\n\u001b[0;32m    117\u001b[0m \u001b[38;5;66;03m# Collect all local Jar Paths we have access to for the SparkSession\u001b[39;00m\n\u001b[0;32m    118\u001b[0m jars \u001b[38;5;241m=\u001b[39m []\n",
      "File \u001b[1;32m~\\AppData\\Roaming\\Python\\Python310\\site-packages\\johnsnowlabs\\auto_install\\jsl_home.py:294\u001b[0m, in \u001b[0;36mget_install_suite_from_jsl_home\u001b[1;34m(create_jsl_home_if_missing, jvm_hardware_target, nlp, visual, spark_nlp, only_jars, recursive_call, browser_login, force_browser, access_token, local_license_number, remote_license_number, secrets_file, hc_license, hc_secret, ocr_secret, ocr_license, aws_access_key, aws_key_id, fin_license, leg_license, store_in_jsl_home, log)\u001b[0m\n\u001b[0;32m    292\u001b[0m \u001b[38;5;28;01mif\u001b[39;00m missing \u001b[38;5;129;01mand\u001b[39;00m \u001b[38;5;129;01mnot\u001b[39;00m recursive_call:\n\u001b[0;32m    293\u001b[0m     \u001b[38;5;28mprint\u001b[39m(\u001b[38;5;124mf\u001b[39m\u001b[38;5;124m\"\u001b[39m\u001b[38;5;124m🤓 Looks like you are missing some jars, trying fetching them ...\u001b[39m\u001b[38;5;124m\"\u001b[39m)\n\u001b[1;32m--> 294\u001b[0m     \u001b[43msetup_jsl_home\u001b[49m\u001b[43m(\u001b[49m\n\u001b[0;32m    295\u001b[0m \u001b[43m        \u001b[49m\u001b[43mlicense_data\u001b[49m\u001b[43m,\u001b[49m\n\u001b[0;32m    296\u001b[0m \u001b[43m        \u001b[49m\u001b[43mjvm_install_type\u001b[49m\u001b[38;5;241;43m=\u001b[39;49m\u001b[43mjvm_hardware_target\u001b[49m\u001b[43m,\u001b[49m\n\u001b[0;32m    297\u001b[0m \u001b[43m        \u001b[49m\u001b[43monly_jars\u001b[49m\u001b[38;5;241;43m=\u001b[39;49m\u001b[43monly_jars\u001b[49m\u001b[43m,\u001b[49m\n\u001b[0;32m    298\u001b[0m \u001b[43m        \u001b[49m\u001b[43mlog\u001b[49m\u001b[38;5;241;43m=\u001b[39;49m\u001b[38;5;28;43;01mFalse\u001b[39;49;00m\u001b[43m,\u001b[49m\n\u001b[0;32m    299\u001b[0m \u001b[43m        \u001b[49m\u001b[43mnlp\u001b[49m\u001b[38;5;241;43m=\u001b[39;49m\u001b[43mnlp\u001b[49m\u001b[43m,\u001b[49m\n\u001b[0;32m    300\u001b[0m \u001b[43m        \u001b[49m\u001b[43mvisual\u001b[49m\u001b[38;5;241;43m=\u001b[39;49m\u001b[43mvisual\u001b[49m\u001b[43m,\u001b[49m\n\u001b[0;32m    301\u001b[0m \u001b[43m        \u001b[49m\u001b[43mspark_nlp\u001b[49m\u001b[38;5;241;43m=\u001b[39;49m\u001b[43mspark_nlp\u001b[49m\u001b[43m,\u001b[49m\n\u001b[0;32m    302\u001b[0m \u001b[43m    \u001b[49m\u001b[43m)\u001b[49m\n\u001b[0;32m    303\u001b[0m     \u001b[38;5;66;03m# After re-setting up jsl_home, call this method again\u001b[39;00m\n\u001b[0;32m    304\u001b[0m     \u001b[38;5;28;01mreturn\u001b[39;00m get_install_suite_from_jsl_home(\n\u001b[0;32m    305\u001b[0m         jvm_hardware_target\u001b[38;5;241m=\u001b[39mjvm_hardware_target,\n\u001b[0;32m    306\u001b[0m         nlp\u001b[38;5;241m=\u001b[39mnlp,\n\u001b[1;32m   (...)\u001b[0m\n\u001b[0;32m    323\u001b[0m         leg_license\u001b[38;5;241m=\u001b[39mleg_license,\n\u001b[0;32m    324\u001b[0m     )\n",
      "File \u001b[1;32m~\\AppData\\Roaming\\Python\\Python310\\site-packages\\johnsnowlabs\\auto_install\\jsl_home.py:182\u001b[0m, in \u001b[0;36msetup_jsl_home\u001b[1;34m(secrets, jvm_install_type, py_install_type, only_jars, spark_version, overwrite, log, refresh_install, visual, nlp, spark_nlp)\u001b[0m\n\u001b[0;32m    178\u001b[0m \u001b[38;5;28;01mif\u001b[39;00m \u001b[38;5;129;01mnot\u001b[39;00m only_jars:\n\u001b[0;32m    179\u001b[0m     download_deps_and_create_info(\n\u001b[0;32m    180\u001b[0m         py_deps, settings\u001b[38;5;241m.\u001b[39mpy_dir, settings\u001b[38;5;241m.\u001b[39mpy_info_file, overwrite\n\u001b[0;32m    181\u001b[0m     )\n\u001b[1;32m--> 182\u001b[0m \u001b[43mdownload_deps_and_create_info\u001b[49m\u001b[43m(\u001b[49m\n\u001b[0;32m    183\u001b[0m \u001b[43m    \u001b[49m\u001b[43mjava_deps\u001b[49m\u001b[43m,\u001b[49m\u001b[43m \u001b[49m\u001b[43msettings\u001b[49m\u001b[38;5;241;43m.\u001b[39;49m\u001b[43mjava_dir\u001b[49m\u001b[43m,\u001b[49m\u001b[43m \u001b[49m\u001b[43msettings\u001b[49m\u001b[38;5;241;43m.\u001b[39;49m\u001b[43mjava_info_file\u001b[49m\u001b[43m,\u001b[49m\u001b[43m \u001b[49m\u001b[43moverwrite\u001b[49m\n\u001b[0;32m    184\u001b[0m \u001b[43m\u001b[49m\u001b[43m)\u001b[49m\n\u001b[0;32m    186\u001b[0m RootInfo(version\u001b[38;5;241m=\u001b[39msettings\u001b[38;5;241m.\u001b[39mraw_version_jsl_lib, run_from\u001b[38;5;241m=\u001b[39msys\u001b[38;5;241m.\u001b[39mexecutable)\u001b[38;5;241m.\u001b[39mwrite(\n\u001b[0;32m    187\u001b[0m     settings\u001b[38;5;241m.\u001b[39mroot_info_file, indent\u001b[38;5;241m=\u001b[39m\u001b[38;5;241m4\u001b[39m\n\u001b[0;32m    188\u001b[0m )\n\u001b[0;32m    189\u001b[0m \u001b[38;5;28mprint\u001b[39m(\u001b[38;5;124mf\u001b[39m\u001b[38;5;124m\"\u001b[39m\u001b[38;5;124m🙆 JSL Home setup in \u001b[39m\u001b[38;5;132;01m{\u001b[39;00msettings\u001b[38;5;241m.\u001b[39mroot_dir\u001b[38;5;132;01m}\u001b[39;00m\u001b[38;5;124m\"\u001b[39m)\n",
      "File \u001b[1;32m~\\AppData\\Roaming\\Python\\Python310\\site-packages\\johnsnowlabs\\auto_install\\jsl_home.py:82\u001b[0m, in \u001b[0;36mdownload_deps_and_create_info\u001b[1;34m(deps, lib_dir, info_file_path, overwrite)\u001b[0m\n\u001b[0;32m     73\u001b[0m                 err_msg \u001b[38;5;241m=\u001b[39m \u001b[38;5;124mf\u001b[39m\u001b[38;5;124m\"\"\"\u001b[39m\u001b[38;5;124m🚨 Cannot install \u001b[39m\u001b[38;5;132;01m{\u001b[39;00mProductLogo\u001b[38;5;241m.\u001b[39mfrom_name(p\u001b[38;5;241m.\u001b[39mproduct_name\u001b[38;5;241m.\u001b[39mname)\u001b[38;5;241m.\u001b[39mvalue\u001b[38;5;132;01m}\u001b[39;00m\u001b[38;5;132;01m{\u001b[39;00mp\u001b[38;5;241m.\u001b[39mproduct_name\u001b[38;5;241m.\u001b[39mvalue\u001b[38;5;132;01m}\u001b[39;00m\u001b[38;5;124m because provided license file secret is outdated or it is invalid.\u001b[39m\n\u001b[0;32m     74\u001b[0m \u001b[38;5;124mHow to Fix this: \u001b[39m\n\u001b[0;32m     75\u001b[0m \u001b[38;5;124mOption1: Run \u001b[39m\u001b[38;5;132;01m{\u001b[39;00mFore\u001b[38;5;241m.\u001b[39mLIGHTGREEN_EX\u001b[38;5;132;01m}\u001b[39;00m\u001b[38;5;124mnlp.install(force_browser=True)\u001b[39m\u001b[38;5;132;01m{\u001b[39;00mFore\u001b[38;5;241m.\u001b[39mRESET\u001b[38;5;132;01m}\u001b[39;00m\u001b[38;5;124m to get a Browser Window pop-up where you can refresh your license data\u001b[39m\n\u001b[1;32m   (...)\u001b[0m\n\u001b[0;32m     78\u001b[0m \u001b[38;5;124mOption4: Set \u001b[39m\u001b[38;5;132;01m{\u001b[39;00mFore\u001b[38;5;241m.\u001b[39mLIGHTGREEN_EX\u001b[38;5;132;01m}\u001b[39;00m\u001b[38;5;124mnlp.settings.enforce_versions=False\u001b[39m\u001b[38;5;132;01m{\u001b[39;00mFore\u001b[38;5;241m.\u001b[39mRESET\u001b[38;5;132;01m}\u001b[39;00m\u001b[38;5;124m and run\u001b[39m\u001b[38;5;132;01m{\u001b[39;00mFore\u001b[38;5;241m.\u001b[39mLIGHTGREEN_EX\u001b[38;5;132;01m}\u001b[39;00m\u001b[38;5;124m nlp.install(refresh_install=True,force_browser=True)\u001b[39m\u001b[38;5;132;01m{\u001b[39;00mFore\u001b[38;5;241m.\u001b[39mRESET\u001b[38;5;132;01m}\u001b[39;00m\u001b[38;5;124m to disable this protection mechanism and try to install anyways. Not Recommended, can yield unforeseen consequences \u001b[39m\n\u001b[0;32m     79\u001b[0m \u001b[38;5;124m\"\"\"\u001b[39m\n\u001b[0;32m     81\u001b[0m                 \u001b[38;5;28mprint\u001b[39m(err_msg)\n\u001b[1;32m---> 82\u001b[0m                 \u001b[38;5;28;01mraise\u001b[39;00m \u001b[38;5;167;01mException\u001b[39;00m(err_msg)\n\u001b[0;32m     84\u001b[0m         info[p\u001b[38;5;241m.\u001b[39mfile_name] \u001b[38;5;241m=\u001b[39m constructor(\n\u001b[0;32m     85\u001b[0m             file_name\u001b[38;5;241m=\u001b[39mp\u001b[38;5;241m.\u001b[39mfile_name,\n\u001b[0;32m     86\u001b[0m             product\u001b[38;5;241m=\u001b[39mp\u001b[38;5;241m.\u001b[39mproduct_name,\n\u001b[1;32m   (...)\u001b[0m\n\u001b[0;32m     89\u001b[0m             product_version\u001b[38;5;241m=\u001b[39mp\u001b[38;5;241m.\u001b[39mdependency_version\u001b[38;5;241m.\u001b[39mas_str(),\n\u001b[0;32m     90\u001b[0m         )\n\u001b[0;32m     91\u001b[0m     \u001b[38;5;28;01mif\u001b[39;00m info:\n",
      "\u001b[1;31mException\u001b[0m: 🚨 Cannot install 💊Spark-Healthcare because provided license file secret is outdated or it is invalid.\nHow to Fix this: \nOption1: Run \u001b[92mnlp.install(force_browser=True)\u001b[39m to get a Browser Window pop-up where you can refresh your license data\nOption2: Run \u001b[92mnlp.install(json_license_path=\"path/to/fresh_credentials.json\")\u001b[39m after downloading a fresh license from https://my.johnsnowlabs.com/subscriptions   \nOption3: Run \u001b[92mnlp.install(refresh_install=True,force_browser=True)\u001b[39m to refresh everything \nOption4: Set \u001b[92mnlp.settings.enforce_versions=False\u001b[39m and run\u001b[92m nlp.install(refresh_install=True,force_browser=True)\u001b[39m to disable this protection mechanism and try to install anyways. Not Recommended, can yield unforeseen consequences \n"
     ]
    }
   ],
   "source": [
    "from johnsnowlabs import nlp\n",
    "spark = nlp.start()"
   ]
  },
  {
   "cell_type": "code",
   "execution_count": null,
   "id": "86955127",
   "metadata": {},
   "outputs": [],
   "source": [
    "\n",
    "embeddings = nlp.WordEmbeddingsModel.pretrained('glove_100d') \\\n",
    "\t\t.setInputCols([\"document\", 'token']) \\\n",
    "\t\t.setOutputCol(\"embeddings\")\n",
    "\n",
    "nerTagger = nlp.NerDLApproach()\\\n",
    "    .setInputCols([\"document\", \"token\", \"embeddings\"])\\\n",
    "    .setLabelColumn(\"label\")\\\n",
    "    .setOutputCol(\"ner\")\\\n",
    "    .setMaxEpochs(2)\\\n",
    "    .setBatchSize(64)\\\n",
    "    .setRandomSeed(0)\\\n",
    "    .setVerbose(1)\\\n",
    "    .setValidationSplit(0)\\\n",
    "    .setEvaluationLogExtended(True) \\\n",
    "    .setEnableOutputLogs(True)\\\n",
    "    .setIncludeConfidence(True)\\\n",
    "    .setOutputLogsPath('ner_logs')\n",
    "\n",
    "training_pipeline = nlp.Pipeline(stages=[\n",
    "          embeddings,\n",
    "          nerTagger\n",
    " ])\n",
    "\n",
    "\n",
    "conll_data = nlp.CoNLL().readDataset(spark, 'conll03.conll')\n",
    "\n",
    "ner_model = training_pipeline.fit(conll_data)\n",
    "\n",
    "ner_model.stages[-1].write().overwrite().save('models/trained_ner_model')|"
   ]
  },
  {
   "cell_type": "code",
   "execution_count": null,
   "id": "69d60a64",
   "metadata": {},
   "outputs": [],
   "source": [
    "documentAssembler = nlp.DocumentAssembler()\\\n",
    "\t\t.setInputCol(\"text\")\\\n",
    "\t\t.setOutputCol(\"document\")\n",
    "\n",
    "tokenizer = nlp.Tokenizer()\\\n",
    "\t\t.setInputCols([\"document\"])\\\n",
    "\t\t.setOutputCol(\"token\")\n",
    "\n",
    "embeddings = nlp.WordEmbeddingsModel.pretrained('glove_100d') \\\n",
    "\t\t.setInputCols([\"document\", 'token']) \\\n",
    "\t\t.setOutputCol(\"embeddings\")\n",
    "\n",
    "ner = nlp.NerDLModel.load(\"models/trained_ner_model\") \\\n",
    "\t\t.setInputCols([\"document\", \"token\", \"embeddings\"]) \\\n",
    "\t\t.setOutputCol(\"ner\")\n",
    "\n",
    "ner_pipeline = nlp.Pipeline().setStages([\n",
    "\t\t\t\tdocumentAssembler,\n",
    "\t\t\t\ttokenizer,\n",
    "\t\t\t\tembeddings,\n",
    "\t\t\t\tner\n",
    "    ])\n",
    "\n",
    "ner_model = ner_pipeline.fit(spark.createDataFrame([[\"\"]]).toDF(\"text\"))"
   ]
  },
  {
   "cell_type": "code",
   "execution_count": null,
   "id": "832494d9",
   "metadata": {},
   "outputs": [],
   "source": [
    "harness = Harness(task=\"ner\", model={\"model\": ner_model, \"hub\": \"johnsnowlabs\"}, data={\"data_source\" :\"data/conll/sample.conll\"})"
   ]
  },
  {
   "cell_type": "code",
   "execution_count": null,
   "id": "f1cf9b86",
   "metadata": {},
   "outputs": [],
   "source": [
    "harness.configure({\n",
    "    'tests': {\n",
    "        'defaults': {'min_pass_rate': 0.65},\n",
    "\n",
    "        'robustness': {\n",
    "            'lowercase': {'min_pass_rate': 0.60},\n",
    "            'uppercase':{'min_pass_rate': 0.60}\n",
    "        }\n",
    "    }\n",
    "})"
   ]
  },
  {
   "cell_type": "code",
   "execution_count": null,
   "id": "6dcd4188",
   "metadata": {},
   "outputs": [],
   "source": [
    "harness.generate(seed=42)"
   ]
  },
  {
   "cell_type": "code",
   "execution_count": null,
   "id": "3684c8c4",
   "metadata": {},
   "outputs": [],
   "source": [
    "harness.run()"
   ]
  },
  {
   "cell_type": "code",
   "execution_count": null,
   "id": "18a7dae2",
   "metadata": {},
   "outputs": [],
   "source": [
    "harness.report()"
   ]
  },
  {
   "cell_type": "code",
   "execution_count": null,
   "id": "4fa68bbf",
   "metadata": {},
   "outputs": [],
   "source": [
    "data_kwargs = {\n",
    "      \"data_source\" : \"conll03.conll\",\n",
    "       }\n",
    "\n",
    "harness.augment(training_data=data_kwargs, save_data_path=\"augmented_train.conll\", export_mode=\"add\")"
   ]
  },
  {
   "cell_type": "code",
   "execution_count": null,
   "id": "5fa177c3",
   "metadata": {},
   "outputs": [],
   "source": [
    "embeddings = nlp.WordEmbeddingsModel.pretrained('glove_100d') \\\n",
    "\t\t.setInputCols([\"document\", 'token']) \\\n",
    "\t\t.setOutputCol(\"embeddings\")\n",
    "\n",
    "nerTagger = nlp.NerDLApproach()\\\n",
    "    .setInputCols([\"document\", \"token\", \"embeddings\"])\\\n",
    "    .setLabelColumn(\"label\")\\\n",
    "    .setOutputCol(\"ner\")\\\n",
    "    .setMaxEpochs(2)\\\n",
    "    .setBatchSize(64)\\\n",
    "    .setRandomSeed(0)\\\n",
    "    .setVerbose(1)\\\n",
    "    .setValidationSplit(0)\\\n",
    "    .setEvaluationLogExtended(True) \\\n",
    "    .setEnableOutputLogs(True)\\\n",
    "    .setIncludeConfidence(True)\\\n",
    "    .setOutputLogsPath('ner_logs')\n",
    "\n",
    "training_pipeline = nlp.Pipeline(stages=[\n",
    "          embeddings,\n",
    "          nerTagger\n",
    " ])\n",
    "\n",
    "\n",
    "conll_data = nlp.CoNLL().readDataset(spark, 'augmented_train.conll')\n",
    "\n",
    "ner_model = training_pipeline.fit(conll_data)\n",
    "\n",
    "ner_model.stages[-1].write().overwrite().save('models/augmented_ner_model')"
   ]
  },
  {
   "cell_type": "code",
   "execution_count": null,
   "id": "923faad6",
   "metadata": {},
   "outputs": [],
   "source": [
    "documentAssembler = nlp.DocumentAssembler()\\\n",
    "\t\t.setInputCol(\"text\")\\\n",
    "\t\t.setOutputCol(\"document\")\n",
    "\n",
    "tokenizer = nlp.Tokenizer()\\\n",
    "\t\t.setInputCols([\"document\"])\\\n",
    "\t\t.setOutputCol(\"token\")\n",
    "\n",
    "embeddings = nlp.WordEmbeddingsModel.pretrained('glove_100d') \\\n",
    "\t\t.setInputCols([\"document\", 'token']) \\\n",
    "\t\t.setOutputCol(\"embeddings\")\n",
    "\n",
    "ner = nlp.NerDLModel.load(\"models/augmented_ner_model\") \\\n",
    "\t\t.setInputCols([\"document\", \"token\", \"embeddings\"]) \\\n",
    "\t\t.setOutputCol(\"ner\")\n",
    "\n",
    "ner_pipeline = nlp.Pipeline().setStages([\n",
    "\t\t\t\tdocumentAssembler,\n",
    "\t\t\t\ttokenizer,\n",
    "\t\t\t\tembeddings,\n",
    "\t\t\t\tner\n",
    "    ])\n",
    "\n",
    "ner_model_2 = ner_pipeline.fit(spark.createDataFrame([[\"\"]]).toDF(\"text\"))"
   ]
  },
  {
   "cell_type": "code",
   "execution_count": null,
   "id": "a1bc4abc",
   "metadata": {},
   "outputs": [],
   "source": [
    "harness = Harness(task=\"ner\", model={\"model\": ner_model_2, \"hub\": \"johnsnowlabs\"}, data={\"data_source\" :\"sample.conll\"})"
   ]
  },
  {
   "cell_type": "code",
   "execution_count": null,
   "id": "db261d4b",
   "metadata": {},
   "outputs": [],
   "source": [
    "harness.configure({\n",
    "    'tests': {\n",
    "        'defaults': {'min_pass_rate': 0.65},\n",
    "\n",
    "        'robustness': {\n",
    "            'lowercase': {'min_pass_rate': 0.60},\n",
    "            'uppercase':{'min_pass_rate': 0.60}\n",
    "        }\n",
    "    }\n",
    "})"
   ]
  },
  {
   "cell_type": "code",
   "execution_count": null,
   "id": "c11a0d62",
   "metadata": {},
   "outputs": [],
   "source": [
    "harness.generate(seed=42)"
   ]
  },
  {
   "cell_type": "code",
   "execution_count": null,
   "id": "42e614e1",
   "metadata": {},
   "outputs": [],
   "source": [
    "harness.run().report()"
   ]
  },
  {
   "cell_type": "code",
   "execution_count": null,
   "id": "65565c7f",
   "metadata": {},
   "outputs": [],
   "source": [
    "models = [{\"model\": ner_model , \"hub\":\"johnsnowlabs\"} , {\"model\":ner_model_2, \"hub\": \"johnsnowlabs\"}]"
   ]
  },
  {
   "cell_type": "code",
   "execution_count": null,
   "id": "710f861c",
   "metadata": {},
   "outputs": [],
   "source": [
    "\n",
    "harness = Harness(task=\"ner\", model=models, data={\"data_source\":'sample.conll'})"
   ]
  },
  {
   "cell_type": "code",
   "execution_count": null,
   "id": "ec0144f0",
   "metadata": {},
   "outputs": [],
   "source": [
    "harness.configure({\n",
    "    'tests': {\n",
    "        'defaults': {'min_pass_rate': 0.65},\n",
    "\n",
    "        'robustness': {\n",
    "            'lowercase': {'min_pass_rate': 0.60},\n",
    "            'uppercase':{'min_pass_rate': 0.60}\n",
    "        }\n",
    "    }\n",
    "})"
   ]
  },
  {
   "cell_type": "code",
   "execution_count": null,
   "id": "9e86bb7b",
   "metadata": {},
   "outputs": [],
   "source": [
    "harness.generate(seed=42)"
   ]
  },
  {
   "cell_type": "code",
   "execution_count": null,
   "id": "c59ced61",
   "metadata": {},
   "outputs": [],
   "source": [
    "harness.run().report()"
   ]
  },
  {
   "cell_type": "code",
   "execution_count": null,
   "id": "9905e80a",
   "metadata": {},
   "outputs": [],
   "source": []
  },
  {
   "cell_type": "code",
   "execution_count": null,
   "id": "5b935d5b",
   "metadata": {},
   "outputs": [],
   "source": []
  },
  {
   "cell_type": "code",
   "execution_count": null,
   "id": "53977f86",
   "metadata": {},
   "outputs": [],
   "source": []
  },
  {
   "cell_type": "code",
   "execution_count": 3,
   "id": "e32ea174",
   "metadata": {},
   "outputs": [
    {
     "data": {
      "application/vnd.jupyter.widget-view+json": {
       "model_id": "ca989bb0a0d44d03b7ca6a946f5fde87",
       "version_major": 2,
       "version_minor": 0
      },
      "text/plain": [
       "Downloading tokenizer_config.json:   0%|          | 0.00/2.54k [00:00<?, ?B/s]"
      ]
     },
     "metadata": {},
     "output_type": "display_data"
    },
    {
     "data": {
      "application/vnd.jupyter.widget-view+json": {
       "model_id": "8230e3e1575f4082861838b68160c143",
       "version_major": 2,
       "version_minor": 0
      },
      "text/plain": [
       "Downloading spiece.model:   0%|          | 0.00/792k [00:00<?, ?B/s]"
      ]
     },
     "metadata": {},
     "output_type": "display_data"
    },
    {
     "data": {
      "application/vnd.jupyter.widget-view+json": {
       "model_id": "ffedad2195a84e2ba2649ea632ec5cfd",
       "version_major": 2,
       "version_minor": 0
      },
      "text/plain": [
       "Downloading tokenizer.json:   0%|          | 0.00/2.42M [00:00<?, ?B/s]"
      ]
     },
     "metadata": {},
     "output_type": "display_data"
    },
    {
     "data": {
      "application/vnd.jupyter.widget-view+json": {
       "model_id": "a9c9fee706874e3798f7cfecaa5c9238",
       "version_major": 2,
       "version_minor": 0
      },
      "text/plain": [
       "Downloading (…)cial_tokens_map.json:   0%|          | 0.00/2.20k [00:00<?, ?B/s]"
      ]
     },
     "metadata": {},
     "output_type": "display_data"
    },
    {
     "data": {
      "application/vnd.jupyter.widget-view+json": {
       "model_id": "70d1a20012b743028b0434b8f09576a6",
       "version_major": 2,
       "version_minor": 0
      },
      "text/plain": [
       "Downloading config.json:   0%|          | 0.00/1.40k [00:00<?, ?B/s]"
      ]
     },
     "metadata": {},
     "output_type": "display_data"
    },
    {
     "data": {
      "application/vnd.jupyter.widget-view+json": {
       "model_id": "c666b97d60f843adaf6b50eba58402ec",
       "version_major": 2,
       "version_minor": 0
      },
      "text/plain": [
       "Downloading model.safetensors:   0%|          | 0.00/990M [00:00<?, ?B/s]"
      ]
     },
     "metadata": {},
     "output_type": "display_data"
    },
    {
     "data": {
      "application/vnd.jupyter.widget-view+json": {
       "model_id": "16997be160ca45c8a818587999d73a56",
       "version_major": 2,
       "version_minor": 0
      },
      "text/plain": [
       "Downloading generation_config.json:   0%|          | 0.00/147 [00:00<?, ?B/s]"
      ]
     },
     "metadata": {},
     "output_type": "display_data"
    }
   ],
   "source": [
    "# Load model directly\n",
    "from transformers import AutoTokenizer, AutoModelForSeq2SeqLM\n",
    "\n",
    "tokenizer = AutoTokenizer.from_pretrained(\"google/flan-t5-base\")\n",
    "model = AutoModelForSeq2SeqLM.from_pretrained(\"google/flan-t5-base\")"
   ]
  },
  {
   "cell_type": "code",
   "execution_count": null,
   "id": "43523b42",
   "metadata": {},
   "outputs": [],
   "source": []
  },
  {
   "cell_type": "code",
   "execution_count": 9,
   "id": "2350b3a6",
   "metadata": {},
   "outputs": [
    {
     "data": {
      "text/plain": [
       "'t5'"
      ]
     },
     "execution_count": 9,
     "metadata": {},
     "output_type": "execute_result"
    }
   ],
   "source": [
    "model.config.model_type"
   ]
  },
  {
   "cell_type": "code",
   "execution_count": 3,
   "id": "6bb82a7f",
   "metadata": {},
   "outputs": [],
   "source": [
    "from transformers import AutoModelForMaskedLM\n",
    "model = AutoModelForMaskedLM.from_pretrained(\"bert-base-uncased\")"
   ]
  },
  {
   "cell_type": "code",
   "execution_count": 13,
   "id": "c45ef0fc",
   "metadata": {},
   "outputs": [
    {
     "data": {
      "text/plain": [
       "'bert-base-uncased'"
      ]
     },
     "execution_count": 13,
     "metadata": {},
     "output_type": "execute_result"
    }
   ],
   "source": [
    "model.config.name_or_path"
   ]
  },
  {
   "cell_type": "code",
   "execution_count": 14,
   "id": "14666593",
   "metadata": {},
   "outputs": [
    {
     "data": {
      "text/plain": [
       "transformers.models.bert.modeling_bert.BertForMaskedLM"
      ]
     },
     "execution_count": 14,
     "metadata": {},
     "output_type": "execute_result"
    }
   ],
   "source": [
    "type(model)"
   ]
  },
  {
   "cell_type": "code",
   "execution_count": 31,
   "id": "8e910384",
   "metadata": {},
   "outputs": [],
   "source": [
    "model = AutoModelForSeq2SeqLM.from_pretrained(\"google/flan-t5-base\")"
   ]
  },
  {
   "cell_type": "code",
   "execution_count": null,
   "id": "5bf42c09",
   "metadata": {},
   "outputs": [],
   "source": [
    "\n",
    "import os\n",
    "\n",
    "os.environ[\"OPENAI_API_KEY\"] = \"<YOUR_API_KEY>\""
   ]
  },
  {
   "cell_type": "code",
   "execution_count": null,
   "id": "b085f8ab",
   "metadata": {},
   "outputs": [],
   "source": [
    "harness = Harness(\n",
    "                  task=\"question-answering\", \n",
    "                  model={\"model\": model,\"hub\":\"huggingface\"}, \n",
    "                  data={\"data_source\" :\"BoolQ\",\n",
    "                        \"split\":\"test-tiny\"}\n",
    "                  )"
   ]
  },
  {
   "cell_type": "code",
   "execution_count": 4,
   "id": "600097f7",
   "metadata": {},
   "outputs": [
    {
     "name": "stdout",
     "output_type": "stream",
     "text": [
      "path BertForMaskedLM(\n",
      "  (bert): BertModel(\n",
      "    (embeddings): BertEmbeddings(\n",
      "      (word_embeddings): Embedding(30522, 768, padding_idx=0)\n",
      "      (position_embeddings): Embedding(512, 768)\n",
      "      (token_type_embeddings): Embedding(2, 768)\n",
      "      (LayerNorm): LayerNorm((768,), eps=1e-12, elementwise_affine=True)\n",
      "      (dropout): Dropout(p=0.1, inplace=False)\n",
      "    )\n",
      "    (encoder): BertEncoder(\n",
      "      (layer): ModuleList(\n",
      "        (0-11): 12 x BertLayer(\n",
      "          (attention): BertAttention(\n",
      "            (self): BertSelfAttention(\n",
      "              (query): Linear(in_features=768, out_features=768, bias=True)\n",
      "              (key): Linear(in_features=768, out_features=768, bias=True)\n",
      "              (value): Linear(in_features=768, out_features=768, bias=True)\n",
      "              (dropout): Dropout(p=0.1, inplace=False)\n",
      "            )\n",
      "            (output): BertSelfOutput(\n",
      "              (dense): Linear(in_features=768, out_features=768, bias=True)\n",
      "              (LayerNorm): LayerNorm((768,), eps=1e-12, elementwise_affine=True)\n",
      "              (dropout): Dropout(p=0.1, inplace=False)\n",
      "            )\n",
      "          )\n",
      "          (intermediate): BertIntermediate(\n",
      "            (dense): Linear(in_features=768, out_features=3072, bias=True)\n",
      "            (intermediate_act_fn): GELUActivation()\n",
      "          )\n",
      "          (output): BertOutput(\n",
      "            (dense): Linear(in_features=3072, out_features=768, bias=True)\n",
      "            (LayerNorm): LayerNorm((768,), eps=1e-12, elementwise_affine=True)\n",
      "            (dropout): Dropout(p=0.1, inplace=False)\n",
      "          )\n",
      "        )\n",
      "      )\n",
      "    )\n",
      "  )\n",
      "  (cls): BertOnlyMLMHead(\n",
      "    (predictions): BertLMPredictionHead(\n",
      "      (transform): BertPredictionHeadTransform(\n",
      "        (dense): Linear(in_features=768, out_features=768, bias=True)\n",
      "        (transform_act_fn): GELUActivation()\n",
      "        (LayerNorm): LayerNorm((768,), eps=1e-12, elementwise_affine=True)\n",
      "      )\n",
      "      (decoder): Linear(in_features=768, out_features=30522, bias=True)\n",
      "    )\n",
      "  )\n",
      ")\n"
     ]
    },
    {
     "ename": "HFValidationError",
     "evalue": "Repo id must use alphanumeric chars or '-', '_', '.', '--' and '..' are forbidden, '-' and '.' cannot start or end the name, max length is 96: 'BertForMaskedLM(\n  (bert): BertModel(\n    (embeddings): BertEmbeddings(\n      (word_embeddings): Embedding(30522, 768, padding_idx=0)\n      (position_embeddings): Embedding(512, 768)\n      (token_type_embeddings): Embedding(2, 768)\n      (LayerNorm): LayerNorm((768,), eps=1e-12, elementwise_affine=True)\n      (dropout): Dropout(p=0.1, inplace=False)\n    )\n    (encoder): BertEncoder(\n      (layer): ModuleList(\n        (0-11): 12 x BertLayer(\n          (attention): BertAttention(\n            (self): BertSelfAttention(\n              (query): Linear(in_features=768, out_features=768, bias=True)\n              (key): Linear(in_features=768, out_features=768, bias=True)\n              (value): Linear(in_features=768, out_features=768, bias=True)\n              (dropout): Dropout(p=0.1, inplace=False)\n            )\n            (output): BertSelfOutput(\n              (dense): Linear(in_features=768, out_features=768, bias=True)\n              (LayerNorm): LayerNorm((768,), eps=1e-12, elementwise_affine=True)\n              (dropout): Dropout(p=0.1, inplace=False)\n            )\n          )\n          (intermediate): BertIntermediate(\n            (dense): Linear(in_features=768, out_features=3072, bias=True)\n            (intermediate_act_fn): GELUActivation()\n          )\n          (output): BertOutput(\n            (dense): Linear(in_features=3072, out_features=768, bias=True)\n            (LayerNorm): LayerNorm((768,), eps=1e-12, elementwise_affine=True)\n            (dropout): Dropout(p=0.1, inplace=False)\n          )\n        )\n      )\n    )\n  )\n  (cls): BertOnlyMLMHead(\n    (predictions): BertLMPredictionHead(\n      (transform): BertPredictionHeadTransform(\n        (dense): Linear(in_features=768, out_features=768, bias=True)\n        (transform_act_fn): GELUActivation()\n        (LayerNorm): LayerNorm((768,), eps=1e-12, elementwise_affine=True)\n      )\n      (decoder): Linear(in_features=768, out_features=30522, bias=True)\n    )\n  )\n)'.",
     "output_type": "error",
     "traceback": [
      "\u001b[1;31m---------------------------------------------------------------------------\u001b[0m",
      "\u001b[1;31mHFValidationError\u001b[0m                         Traceback (most recent call last)",
      "Cell \u001b[1;32mIn[4], line 1\u001b[0m\n\u001b[1;32m----> 1\u001b[0m harness \u001b[38;5;241m=\u001b[39m \u001b[43mHarness\u001b[49m\u001b[43m(\u001b[49m\n\u001b[0;32m      2\u001b[0m \u001b[43m    \u001b[49m\u001b[43mtask\u001b[49m\u001b[38;5;241;43m=\u001b[39;49m\u001b[38;5;124;43m\"\u001b[39;49m\u001b[38;5;124;43mquestion-answering\u001b[39;49m\u001b[38;5;124;43m\"\u001b[39;49m\u001b[43m,\u001b[49m\n\u001b[0;32m      3\u001b[0m \u001b[43m    \u001b[49m\u001b[43mmodel\u001b[49m\u001b[38;5;241;43m=\u001b[39;49m\u001b[43m{\u001b[49m\u001b[38;5;124;43m\"\u001b[39;49m\u001b[38;5;124;43mmodel\u001b[39;49m\u001b[38;5;124;43m\"\u001b[39;49m\u001b[43m:\u001b[49m\u001b[43m \u001b[49m\u001b[43mmodel\u001b[49m\u001b[43m,\u001b[49m\u001b[43m \u001b[49m\u001b[38;5;124;43m\"\u001b[39;49m\u001b[38;5;124;43mhub\u001b[39;49m\u001b[38;5;124;43m\"\u001b[39;49m\u001b[43m:\u001b[49m\u001b[38;5;124;43m\"\u001b[39;49m\u001b[38;5;124;43mhuggingface\u001b[39;49m\u001b[38;5;124;43m\"\u001b[39;49m\u001b[43m}\u001b[49m\u001b[43m,\u001b[49m\n\u001b[0;32m      4\u001b[0m \u001b[43m    \u001b[49m\u001b[43mdata\u001b[49m\u001b[38;5;241;43m=\u001b[39;49m\u001b[43m{\u001b[49m\u001b[38;5;124;43m\"\u001b[39;49m\u001b[38;5;124;43mdata_source\u001b[39;49m\u001b[38;5;124;43m\"\u001b[39;49m\u001b[43m \u001b[49m\u001b[43m:\u001b[49m\u001b[38;5;124;43m\"\u001b[39;49m\u001b[38;5;124;43mOpenBookQA\u001b[39;49m\u001b[38;5;124;43m\"\u001b[39;49m\u001b[43m,\u001b[49m\n\u001b[0;32m      5\u001b[0m \u001b[43m                        \u001b[49m\u001b[38;5;124;43m\"\u001b[39;49m\u001b[38;5;124;43msplit\u001b[39;49m\u001b[38;5;124;43m\"\u001b[39;49m\u001b[43m:\u001b[49m\u001b[38;5;124;43m\"\u001b[39;49m\u001b[38;5;124;43mtest\u001b[39;49m\u001b[38;5;124;43m\"\u001b[39;49m\u001b[43m}\u001b[49m\u001b[43m,\u001b[49m\n\u001b[0;32m      6\u001b[0m \u001b[43m    \u001b[49m\u001b[43mconfig\u001b[49m\u001b[38;5;241;43m=\u001b[39;49m\u001b[43m{\u001b[49m\n\u001b[0;32m      7\u001b[0m \u001b[43m         \u001b[49m\u001b[38;5;124;43m\"\u001b[39;49m\u001b[38;5;124;43mevaluation\u001b[39;49m\u001b[38;5;124;43m\"\u001b[39;49m\u001b[43m:\u001b[49m\u001b[43m \u001b[49m\u001b[43m{\u001b[49m\u001b[38;5;124;43m\"\u001b[39;49m\u001b[38;5;124;43mmetric\u001b[39;49m\u001b[38;5;124;43m\"\u001b[39;49m\u001b[43m:\u001b[49m\u001b[38;5;124;43m\"\u001b[39;49m\u001b[38;5;124;43mstring_distance\u001b[39;49m\u001b[38;5;124;43m\"\u001b[39;49m\u001b[43m,\u001b[49m\u001b[38;5;124;43m\"\u001b[39;49m\u001b[38;5;124;43mdistance\u001b[39;49m\u001b[38;5;124;43m\"\u001b[39;49m\u001b[43m:\u001b[49m\u001b[38;5;124;43m\"\u001b[39;49m\u001b[38;5;124;43mjaro\u001b[39;49m\u001b[38;5;124;43m\"\u001b[39;49m\u001b[43m,\u001b[49m\u001b[38;5;124;43m\"\u001b[39;49m\u001b[38;5;124;43mthreshold\u001b[39;49m\u001b[38;5;124;43m\"\u001b[39;49m\u001b[43m:\u001b[49m\u001b[38;5;241;43m0.1\u001b[39;49m\u001b[43m}\u001b[49m\u001b[43m,\u001b[49m\n\u001b[0;32m      8\u001b[0m \u001b[43m         \u001b[49m\u001b[38;5;124;43m'\u001b[39;49m\u001b[38;5;124;43mtests\u001b[39;49m\u001b[38;5;124;43m'\u001b[39;49m\u001b[43m:\u001b[49m\u001b[43m \u001b[49m\u001b[43m{\u001b[49m\u001b[38;5;124;43m'\u001b[39;49m\u001b[38;5;124;43mdefaults\u001b[39;49m\u001b[38;5;124;43m'\u001b[39;49m\u001b[43m:\u001b[49m\u001b[43m \u001b[49m\u001b[43m{\u001b[49m\u001b[38;5;124;43m'\u001b[39;49m\u001b[38;5;124;43mmin_pass_rate\u001b[39;49m\u001b[38;5;124;43m'\u001b[39;49m\u001b[43m:\u001b[49m\u001b[43m \u001b[49m\u001b[38;5;241;43m0.65\u001b[39;49m\u001b[43m}\u001b[49m\u001b[43m,\u001b[49m\n\u001b[0;32m      9\u001b[0m \u001b[43m           \u001b[49m\u001b[38;5;124;43m'\u001b[39;49m\u001b[38;5;124;43mrobustness\u001b[39;49m\u001b[38;5;124;43m'\u001b[39;49m\u001b[43m:\u001b[49m\u001b[43m \u001b[49m\u001b[43m{\u001b[49m\u001b[38;5;124;43m'\u001b[39;49m\u001b[38;5;124;43muppercase\u001b[39;49m\u001b[38;5;124;43m'\u001b[39;49m\u001b[43m:\u001b[49m\u001b[43m \u001b[49m\u001b[43m{\u001b[49m\u001b[38;5;124;43m'\u001b[39;49m\u001b[38;5;124;43mmin_pass_rate\u001b[39;49m\u001b[38;5;124;43m'\u001b[39;49m\u001b[43m:\u001b[49m\u001b[43m \u001b[49m\u001b[38;5;241;43m0.75\u001b[39;49m\u001b[43m}\u001b[49m\u001b[43m,\u001b[49m\n\u001b[0;32m     10\u001b[0m \u001b[43m                        \u001b[49m\u001b[43m}\u001b[49m\n\u001b[0;32m     11\u001b[0m \u001b[43m          \u001b[49m\u001b[43m}\u001b[49m\n\u001b[0;32m     12\u001b[0m \u001b[43m \u001b[49m\u001b[43m}\u001b[49m\n\u001b[0;32m     13\u001b[0m \u001b[43m)\u001b[49m\n",
      "File \u001b[1;32m~\\OneDrive\\Documents\\Desktop\\langtest\\langtest\\..\\langtest\\langtest.py:264\u001b[0m, in \u001b[0;36mHarness.__init__\u001b[1;34m(self, task, model, data, config)\u001b[0m\n\u001b[0;32m    261\u001b[0m         \u001b[38;5;28mself\u001b[39m\u001b[38;5;241m.\u001b[39mmodel \u001b[38;5;241m=\u001b[39m model_dict\n\u001b[0;32m    263\u001b[0m \u001b[38;5;28;01melse\u001b[39;00m:\n\u001b[1;32m--> 264\u001b[0m     \u001b[38;5;28mself\u001b[39m\u001b[38;5;241m.\u001b[39mmodel \u001b[38;5;241m=\u001b[39m \u001b[38;5;28mself\u001b[39m\u001b[38;5;241m.\u001b[39mtask\u001b[38;5;241m.\u001b[39mmodel(\n\u001b[0;32m    265\u001b[0m         model, hub, \u001b[38;5;241m*\u001b[39m\u001b[38;5;241m*\u001b[39m\u001b[38;5;28mself\u001b[39m\u001b[38;5;241m.\u001b[39m_config\u001b[38;5;241m.\u001b[39mget(\u001b[38;5;124m\"\u001b[39m\u001b[38;5;124mmodel_parameters\u001b[39m\u001b[38;5;124m\"\u001b[39m, {})\n\u001b[0;32m    266\u001b[0m     )\n\u001b[0;32m    267\u001b[0m \u001b[38;5;66;03m# end model selection\u001b[39;00m\n\u001b[0;32m    268\u001b[0m formatted_config \u001b[38;5;241m=\u001b[39m json\u001b[38;5;241m.\u001b[39mdumps(\u001b[38;5;28mself\u001b[39m\u001b[38;5;241m.\u001b[39m_config, indent\u001b[38;5;241m=\u001b[39m\u001b[38;5;241m1\u001b[39m)\n",
      "File \u001b[1;32m~\\OneDrive\\Documents\\Desktop\\langtest\\langtest\\..\\langtest\\tasks\\task.py:150\u001b[0m, in \u001b[0;36mTaskManager.model\u001b[1;34m(self, *args, **kwargs)\u001b[0m\n\u001b[0;32m    148\u001b[0m \u001b[38;5;28;01mdef\u001b[39;00m \u001b[38;5;21mmodel\u001b[39m(\u001b[38;5;28mself\u001b[39m, \u001b[38;5;241m*\u001b[39margs, \u001b[38;5;241m*\u001b[39m\u001b[38;5;241m*\u001b[39mkwargs) \u001b[38;5;241m-\u001b[39m\u001b[38;5;241m>\u001b[39m \u001b[38;5;124m\"\u001b[39m\u001b[38;5;124mModelAPI\u001b[39m\u001b[38;5;124m\"\u001b[39m:\n\u001b[0;32m    149\u001b[0m \u001b[38;5;250m    \u001b[39m\u001b[38;5;124;03m\"\"\"Add a task to the task manager.\"\"\"\u001b[39;00m\n\u001b[1;32m--> 150\u001b[0m     \u001b[38;5;28;01mreturn\u001b[39;00m \u001b[38;5;28mself\u001b[39m\u001b[38;5;241m.\u001b[39m__task\u001b[38;5;241m.\u001b[39mload_model(\u001b[38;5;241m*\u001b[39margs, \u001b[38;5;241m*\u001b[39m\u001b[38;5;241m*\u001b[39mkwargs)\n",
      "File \u001b[1;32m~\\OneDrive\\Documents\\Desktop\\langtest\\langtest\\..\\langtest\\tasks\\task.py:61\u001b[0m, in \u001b[0;36mBaseTask.load_model\u001b[1;34m(cls, model_path, model_hub, *args, **kwargs)\u001b[0m\n\u001b[0;32m     56\u001b[0m         \u001b[38;5;28mcls\u001b[39m\u001b[38;5;241m.\u001b[39mmodel \u001b[38;5;241m=\u001b[39m models[\u001b[38;5;124m\"\u001b[39m\u001b[38;5;124mllm\u001b[39m\u001b[38;5;124m\"\u001b[39m][\u001b[38;5;28mcls\u001b[39m\u001b[38;5;241m.\u001b[39m_name]\u001b[38;5;241m.\u001b[39mload_model(\n\u001b[0;32m     57\u001b[0m             hub\u001b[38;5;241m=\u001b[39mmodel_hub, path\u001b[38;5;241m=\u001b[39mmodel_path, \u001b[38;5;241m*\u001b[39margs, \u001b[38;5;241m*\u001b[39m\u001b[38;5;241m*\u001b[39mkwargs\n\u001b[0;32m     58\u001b[0m         )\n\u001b[0;32m     59\u001b[0m     \u001b[38;5;28;01melse\u001b[39;00m:\n\u001b[0;32m     60\u001b[0m         \u001b[38;5;66;03m# JSL, Huggingface, and Spacy models\u001b[39;00m\n\u001b[1;32m---> 61\u001b[0m         \u001b[38;5;28mcls\u001b[39m\u001b[38;5;241m.\u001b[39mmodel \u001b[38;5;241m=\u001b[39m models[model_hub][\u001b[38;5;28mcls\u001b[39m\u001b[38;5;241m.\u001b[39m_name]\u001b[38;5;241m.\u001b[39mload_model(\n\u001b[0;32m     62\u001b[0m             path\u001b[38;5;241m=\u001b[39mmodel_path, \u001b[38;5;241m*\u001b[39margs, \u001b[38;5;241m*\u001b[39m\u001b[38;5;241m*\u001b[39mkwargs\n\u001b[0;32m     63\u001b[0m         )\n\u001b[0;32m     64\u001b[0m     \u001b[38;5;28;01mreturn\u001b[39;00m \u001b[38;5;28mcls\u001b[39m\u001b[38;5;241m.\u001b[39mmodel\n\u001b[0;32m     65\u001b[0m \u001b[38;5;28;01mexcept\u001b[39;00m \u001b[38;5;167;01mTypeError\u001b[39;00m:\n",
      "File \u001b[1;32m~\\OneDrive\\Documents\\Desktop\\langtest\\langtest\\..\\langtest\\modelhandler\\transformers_modelhandler.py:584\u001b[0m, in \u001b[0;36mPretrainedModelForQA.load_model\u001b[1;34m(cls, path, **kwargs)\u001b[0m\n\u001b[0;32m    580\u001b[0m \u001b[38;5;28mprint\u001b[39m(\u001b[38;5;124m\"\u001b[39m\u001b[38;5;124mpath\u001b[39m\u001b[38;5;124m\"\u001b[39m,path)\n\u001b[0;32m    582\u001b[0m \u001b[38;5;28;01mif\u001b[39;00m \u001b[38;5;129;01mnot\u001b[39;00m \u001b[38;5;28misinstance\u001b[39m(path, \u001b[38;5;28mstr\u001b[39m):\n\u001b[0;32m    583\u001b[0m      models \u001b[38;5;241m=\u001b[39m (\n\u001b[1;32m--> 584\u001b[0m         \u001b[43mAutoTokenizer\u001b[49m\u001b[38;5;241;43m.\u001b[39;49m\u001b[43mfrom_pretrained\u001b[49m\u001b[43m(\u001b[49m\u001b[43mpath\u001b[49m\u001b[43m)\u001b[49m,\n\u001b[0;32m    585\u001b[0m         path,\n\u001b[0;32m    586\u001b[0m      )\n\u001b[0;32m    588\u001b[0m      \u001b[38;5;28;01mreturn\u001b[39;00m \u001b[38;5;28mcls\u001b[39m(models)\n\u001b[0;32m    591\u001b[0m \u001b[38;5;28;01mif\u001b[39;00m \u001b[38;5;124m\"\u001b[39m\u001b[38;5;124mtask\u001b[39m\u001b[38;5;124m\"\u001b[39m \u001b[38;5;129;01min\u001b[39;00m kwargs\u001b[38;5;241m.\u001b[39mkeys():\n",
      "File \u001b[1;32m~\\AppData\\Roaming\\Python\\Python310\\site-packages\\transformers\\models\\auto\\tokenization_auto.py:642\u001b[0m, in \u001b[0;36mAutoTokenizer.from_pretrained\u001b[1;34m(cls, pretrained_model_name_or_path, *inputs, **kwargs)\u001b[0m\n\u001b[0;32m    639\u001b[0m     \u001b[38;5;28;01mreturn\u001b[39;00m tokenizer_class\u001b[38;5;241m.\u001b[39mfrom_pretrained(pretrained_model_name_or_path, \u001b[38;5;241m*\u001b[39minputs, \u001b[38;5;241m*\u001b[39m\u001b[38;5;241m*\u001b[39mkwargs)\n\u001b[0;32m    641\u001b[0m \u001b[38;5;66;03m# Next, let's try to use the tokenizer_config file to get the tokenizer class.\u001b[39;00m\n\u001b[1;32m--> 642\u001b[0m tokenizer_config \u001b[38;5;241m=\u001b[39m get_tokenizer_config(pretrained_model_name_or_path, \u001b[38;5;241m*\u001b[39m\u001b[38;5;241m*\u001b[39mkwargs)\n\u001b[0;32m    643\u001b[0m \u001b[38;5;28;01mif\u001b[39;00m \u001b[38;5;124m\"\u001b[39m\u001b[38;5;124m_commit_hash\u001b[39m\u001b[38;5;124m\"\u001b[39m \u001b[38;5;129;01min\u001b[39;00m tokenizer_config:\n\u001b[0;32m    644\u001b[0m     kwargs[\u001b[38;5;124m\"\u001b[39m\u001b[38;5;124m_commit_hash\u001b[39m\u001b[38;5;124m\"\u001b[39m] \u001b[38;5;241m=\u001b[39m tokenizer_config[\u001b[38;5;124m\"\u001b[39m\u001b[38;5;124m_commit_hash\u001b[39m\u001b[38;5;124m\"\u001b[39m]\n",
      "File \u001b[1;32m~\\AppData\\Roaming\\Python\\Python310\\site-packages\\transformers\\models\\auto\\tokenization_auto.py:486\u001b[0m, in \u001b[0;36mget_tokenizer_config\u001b[1;34m(pretrained_model_name_or_path, cache_dir, force_download, resume_download, proxies, use_auth_token, revision, local_files_only, subfolder, **kwargs)\u001b[0m\n\u001b[0;32m    424\u001b[0m \u001b[38;5;250m\u001b[39m\u001b[38;5;124;03m\"\"\"\u001b[39;00m\n\u001b[0;32m    425\u001b[0m \u001b[38;5;124;03mLoads the tokenizer configuration from a pretrained model tokenizer configuration.\u001b[39;00m\n\u001b[0;32m    426\u001b[0m \n\u001b[1;32m   (...)\u001b[0m\n\u001b[0;32m    483\u001b[0m \u001b[38;5;124;03mtokenizer_config = get_tokenizer_config(\"tokenizer-test\")\u001b[39;00m\n\u001b[0;32m    484\u001b[0m \u001b[38;5;124;03m```\"\"\"\u001b[39;00m\n\u001b[0;32m    485\u001b[0m commit_hash \u001b[38;5;241m=\u001b[39m kwargs\u001b[38;5;241m.\u001b[39mget(\u001b[38;5;124m\"\u001b[39m\u001b[38;5;124m_commit_hash\u001b[39m\u001b[38;5;124m\"\u001b[39m, \u001b[38;5;28;01mNone\u001b[39;00m)\n\u001b[1;32m--> 486\u001b[0m resolved_config_file \u001b[38;5;241m=\u001b[39m \u001b[43mcached_file\u001b[49m\u001b[43m(\u001b[49m\n\u001b[0;32m    487\u001b[0m \u001b[43m    \u001b[49m\u001b[43mpretrained_model_name_or_path\u001b[49m\u001b[43m,\u001b[49m\n\u001b[0;32m    488\u001b[0m \u001b[43m    \u001b[49m\u001b[43mTOKENIZER_CONFIG_FILE\u001b[49m\u001b[43m,\u001b[49m\n\u001b[0;32m    489\u001b[0m \u001b[43m    \u001b[49m\u001b[43mcache_dir\u001b[49m\u001b[38;5;241;43m=\u001b[39;49m\u001b[43mcache_dir\u001b[49m\u001b[43m,\u001b[49m\n\u001b[0;32m    490\u001b[0m \u001b[43m    \u001b[49m\u001b[43mforce_download\u001b[49m\u001b[38;5;241;43m=\u001b[39;49m\u001b[43mforce_download\u001b[49m\u001b[43m,\u001b[49m\n\u001b[0;32m    491\u001b[0m \u001b[43m    \u001b[49m\u001b[43mresume_download\u001b[49m\u001b[38;5;241;43m=\u001b[39;49m\u001b[43mresume_download\u001b[49m\u001b[43m,\u001b[49m\n\u001b[0;32m    492\u001b[0m \u001b[43m    \u001b[49m\u001b[43mproxies\u001b[49m\u001b[38;5;241;43m=\u001b[39;49m\u001b[43mproxies\u001b[49m\u001b[43m,\u001b[49m\n\u001b[0;32m    493\u001b[0m \u001b[43m    \u001b[49m\u001b[43muse_auth_token\u001b[49m\u001b[38;5;241;43m=\u001b[39;49m\u001b[43muse_auth_token\u001b[49m\u001b[43m,\u001b[49m\n\u001b[0;32m    494\u001b[0m \u001b[43m    \u001b[49m\u001b[43mrevision\u001b[49m\u001b[38;5;241;43m=\u001b[39;49m\u001b[43mrevision\u001b[49m\u001b[43m,\u001b[49m\n\u001b[0;32m    495\u001b[0m \u001b[43m    \u001b[49m\u001b[43mlocal_files_only\u001b[49m\u001b[38;5;241;43m=\u001b[39;49m\u001b[43mlocal_files_only\u001b[49m\u001b[43m,\u001b[49m\n\u001b[0;32m    496\u001b[0m \u001b[43m    \u001b[49m\u001b[43msubfolder\u001b[49m\u001b[38;5;241;43m=\u001b[39;49m\u001b[43msubfolder\u001b[49m\u001b[43m,\u001b[49m\n\u001b[0;32m    497\u001b[0m \u001b[43m    \u001b[49m\u001b[43m_raise_exceptions_for_missing_entries\u001b[49m\u001b[38;5;241;43m=\u001b[39;49m\u001b[38;5;28;43;01mFalse\u001b[39;49;00m\u001b[43m,\u001b[49m\n\u001b[0;32m    498\u001b[0m \u001b[43m    \u001b[49m\u001b[43m_raise_exceptions_for_connection_errors\u001b[49m\u001b[38;5;241;43m=\u001b[39;49m\u001b[38;5;28;43;01mFalse\u001b[39;49;00m\u001b[43m,\u001b[49m\n\u001b[0;32m    499\u001b[0m \u001b[43m    \u001b[49m\u001b[43m_commit_hash\u001b[49m\u001b[38;5;241;43m=\u001b[39;49m\u001b[43mcommit_hash\u001b[49m\u001b[43m,\u001b[49m\n\u001b[0;32m    500\u001b[0m \u001b[43m\u001b[49m\u001b[43m)\u001b[49m\n\u001b[0;32m    501\u001b[0m \u001b[38;5;28;01mif\u001b[39;00m resolved_config_file \u001b[38;5;129;01mis\u001b[39;00m \u001b[38;5;28;01mNone\u001b[39;00m:\n\u001b[0;32m    502\u001b[0m     logger\u001b[38;5;241m.\u001b[39minfo(\u001b[38;5;124m\"\u001b[39m\u001b[38;5;124mCould not locate the tokenizer configuration file, will try to use the model config instead.\u001b[39m\u001b[38;5;124m\"\u001b[39m)\n",
      "File \u001b[1;32m~\\AppData\\Roaming\\Python\\Python310\\site-packages\\transformers\\utils\\hub.py:409\u001b[0m, in \u001b[0;36mcached_file\u001b[1;34m(path_or_repo_id, filename, cache_dir, force_download, resume_download, proxies, use_auth_token, revision, local_files_only, subfolder, user_agent, _raise_exceptions_for_missing_entries, _raise_exceptions_for_connection_errors, _commit_hash)\u001b[0m\n\u001b[0;32m    406\u001b[0m user_agent \u001b[38;5;241m=\u001b[39m http_user_agent(user_agent)\n\u001b[0;32m    407\u001b[0m \u001b[38;5;28;01mtry\u001b[39;00m:\n\u001b[0;32m    408\u001b[0m     \u001b[38;5;66;03m# Load from URL or cache if already cached\u001b[39;00m\n\u001b[1;32m--> 409\u001b[0m     resolved_file \u001b[38;5;241m=\u001b[39m \u001b[43mhf_hub_download\u001b[49m\u001b[43m(\u001b[49m\n\u001b[0;32m    410\u001b[0m \u001b[43m        \u001b[49m\u001b[43mpath_or_repo_id\u001b[49m\u001b[43m,\u001b[49m\n\u001b[0;32m    411\u001b[0m \u001b[43m        \u001b[49m\u001b[43mfilename\u001b[49m\u001b[43m,\u001b[49m\n\u001b[0;32m    412\u001b[0m \u001b[43m        \u001b[49m\u001b[43msubfolder\u001b[49m\u001b[38;5;241;43m=\u001b[39;49m\u001b[38;5;28;43;01mNone\u001b[39;49;00m\u001b[43m \u001b[49m\u001b[38;5;28;43;01mif\u001b[39;49;00m\u001b[43m \u001b[49m\u001b[38;5;28;43mlen\u001b[39;49m\u001b[43m(\u001b[49m\u001b[43msubfolder\u001b[49m\u001b[43m)\u001b[49m\u001b[43m \u001b[49m\u001b[38;5;241;43m==\u001b[39;49m\u001b[43m \u001b[49m\u001b[38;5;241;43m0\u001b[39;49m\u001b[43m \u001b[49m\u001b[38;5;28;43;01melse\u001b[39;49;00m\u001b[43m \u001b[49m\u001b[43msubfolder\u001b[49m\u001b[43m,\u001b[49m\n\u001b[0;32m    413\u001b[0m \u001b[43m        \u001b[49m\u001b[43mrevision\u001b[49m\u001b[38;5;241;43m=\u001b[39;49m\u001b[43mrevision\u001b[49m\u001b[43m,\u001b[49m\n\u001b[0;32m    414\u001b[0m \u001b[43m        \u001b[49m\u001b[43mcache_dir\u001b[49m\u001b[38;5;241;43m=\u001b[39;49m\u001b[43mcache_dir\u001b[49m\u001b[43m,\u001b[49m\n\u001b[0;32m    415\u001b[0m \u001b[43m        \u001b[49m\u001b[43muser_agent\u001b[49m\u001b[38;5;241;43m=\u001b[39;49m\u001b[43muser_agent\u001b[49m\u001b[43m,\u001b[49m\n\u001b[0;32m    416\u001b[0m \u001b[43m        \u001b[49m\u001b[43mforce_download\u001b[49m\u001b[38;5;241;43m=\u001b[39;49m\u001b[43mforce_download\u001b[49m\u001b[43m,\u001b[49m\n\u001b[0;32m    417\u001b[0m \u001b[43m        \u001b[49m\u001b[43mproxies\u001b[49m\u001b[38;5;241;43m=\u001b[39;49m\u001b[43mproxies\u001b[49m\u001b[43m,\u001b[49m\n\u001b[0;32m    418\u001b[0m \u001b[43m        \u001b[49m\u001b[43mresume_download\u001b[49m\u001b[38;5;241;43m=\u001b[39;49m\u001b[43mresume_download\u001b[49m\u001b[43m,\u001b[49m\n\u001b[0;32m    419\u001b[0m \u001b[43m        \u001b[49m\u001b[43muse_auth_token\u001b[49m\u001b[38;5;241;43m=\u001b[39;49m\u001b[43muse_auth_token\u001b[49m\u001b[43m,\u001b[49m\n\u001b[0;32m    420\u001b[0m \u001b[43m        \u001b[49m\u001b[43mlocal_files_only\u001b[49m\u001b[38;5;241;43m=\u001b[39;49m\u001b[43mlocal_files_only\u001b[49m\u001b[43m,\u001b[49m\n\u001b[0;32m    421\u001b[0m \u001b[43m    \u001b[49m\u001b[43m)\u001b[49m\n\u001b[0;32m    423\u001b[0m \u001b[38;5;28;01mexcept\u001b[39;00m RepositoryNotFoundError:\n\u001b[0;32m    424\u001b[0m     \u001b[38;5;28;01mraise\u001b[39;00m \u001b[38;5;167;01mEnvironmentError\u001b[39;00m(\n\u001b[0;32m    425\u001b[0m         \u001b[38;5;124mf\u001b[39m\u001b[38;5;124m\"\u001b[39m\u001b[38;5;132;01m{\u001b[39;00mpath_or_repo_id\u001b[38;5;132;01m}\u001b[39;00m\u001b[38;5;124m is not a local folder and is not a valid model identifier \u001b[39m\u001b[38;5;124m\"\u001b[39m\n\u001b[0;32m    426\u001b[0m         \u001b[38;5;124m\"\u001b[39m\u001b[38;5;124mlisted on \u001b[39m\u001b[38;5;124m'\u001b[39m\u001b[38;5;124mhttps://huggingface.co/models\u001b[39m\u001b[38;5;124m'\u001b[39m\u001b[38;5;130;01m\\n\u001b[39;00m\u001b[38;5;124mIf this is a private repository, make sure to \u001b[39m\u001b[38;5;124m\"\u001b[39m\n\u001b[0;32m    427\u001b[0m         \u001b[38;5;124m\"\u001b[39m\u001b[38;5;124mpass a token having permission to this repo with `use_auth_token` or log in with \u001b[39m\u001b[38;5;124m\"\u001b[39m\n\u001b[0;32m    428\u001b[0m         \u001b[38;5;124m\"\u001b[39m\u001b[38;5;124m`huggingface-cli login` and pass `use_auth_token=True`.\u001b[39m\u001b[38;5;124m\"\u001b[39m\n\u001b[0;32m    429\u001b[0m     )\n",
      "File \u001b[1;32m~\\AppData\\Roaming\\Python\\Python310\\site-packages\\huggingface_hub\\utils\\_validators.py:112\u001b[0m, in \u001b[0;36mvalidate_hf_hub_args.<locals>._inner_fn\u001b[1;34m(*args, **kwargs)\u001b[0m\n\u001b[0;32m    107\u001b[0m \u001b[38;5;28;01mfor\u001b[39;00m arg_name, arg_value \u001b[38;5;129;01min\u001b[39;00m chain(\n\u001b[0;32m    108\u001b[0m     \u001b[38;5;28mzip\u001b[39m(signature\u001b[38;5;241m.\u001b[39mparameters, args),  \u001b[38;5;66;03m# Args values\u001b[39;00m\n\u001b[0;32m    109\u001b[0m     kwargs\u001b[38;5;241m.\u001b[39mitems(),  \u001b[38;5;66;03m# Kwargs values\u001b[39;00m\n\u001b[0;32m    110\u001b[0m ):\n\u001b[0;32m    111\u001b[0m     \u001b[38;5;28;01mif\u001b[39;00m arg_name \u001b[38;5;129;01min\u001b[39;00m [\u001b[38;5;124m\"\u001b[39m\u001b[38;5;124mrepo_id\u001b[39m\u001b[38;5;124m\"\u001b[39m, \u001b[38;5;124m\"\u001b[39m\u001b[38;5;124mfrom_id\u001b[39m\u001b[38;5;124m\"\u001b[39m, \u001b[38;5;124m\"\u001b[39m\u001b[38;5;124mto_id\u001b[39m\u001b[38;5;124m\"\u001b[39m]:\n\u001b[1;32m--> 112\u001b[0m         \u001b[43mvalidate_repo_id\u001b[49m\u001b[43m(\u001b[49m\u001b[43marg_value\u001b[49m\u001b[43m)\u001b[49m\n\u001b[0;32m    114\u001b[0m     \u001b[38;5;28;01melif\u001b[39;00m arg_name \u001b[38;5;241m==\u001b[39m \u001b[38;5;124m\"\u001b[39m\u001b[38;5;124mtoken\u001b[39m\u001b[38;5;124m\"\u001b[39m \u001b[38;5;129;01mand\u001b[39;00m arg_value \u001b[38;5;129;01mis\u001b[39;00m \u001b[38;5;129;01mnot\u001b[39;00m \u001b[38;5;28;01mNone\u001b[39;00m:\n\u001b[0;32m    115\u001b[0m         has_token \u001b[38;5;241m=\u001b[39m \u001b[38;5;28;01mTrue\u001b[39;00m\n",
      "File \u001b[1;32m~\\AppData\\Roaming\\Python\\Python310\\site-packages\\huggingface_hub\\utils\\_validators.py:166\u001b[0m, in \u001b[0;36mvalidate_repo_id\u001b[1;34m(repo_id)\u001b[0m\n\u001b[0;32m    160\u001b[0m     \u001b[38;5;28;01mraise\u001b[39;00m HFValidationError(\n\u001b[0;32m    161\u001b[0m         \u001b[38;5;124m\"\u001b[39m\u001b[38;5;124mRepo id must be in the form \u001b[39m\u001b[38;5;124m'\u001b[39m\u001b[38;5;124mrepo_name\u001b[39m\u001b[38;5;124m'\u001b[39m\u001b[38;5;124m or \u001b[39m\u001b[38;5;124m'\u001b[39m\u001b[38;5;124mnamespace/repo_name\u001b[39m\u001b[38;5;124m'\u001b[39m\u001b[38;5;124m:\u001b[39m\u001b[38;5;124m\"\u001b[39m\n\u001b[0;32m    162\u001b[0m         \u001b[38;5;124mf\u001b[39m\u001b[38;5;124m\"\u001b[39m\u001b[38;5;124m \u001b[39m\u001b[38;5;124m'\u001b[39m\u001b[38;5;132;01m{\u001b[39;00mrepo_id\u001b[38;5;132;01m}\u001b[39;00m\u001b[38;5;124m'\u001b[39m\u001b[38;5;124m. Use `repo_type` argument if needed.\u001b[39m\u001b[38;5;124m\"\u001b[39m\n\u001b[0;32m    163\u001b[0m     )\n\u001b[0;32m    165\u001b[0m \u001b[38;5;28;01mif\u001b[39;00m \u001b[38;5;129;01mnot\u001b[39;00m REPO_ID_REGEX\u001b[38;5;241m.\u001b[39mmatch(repo_id):\n\u001b[1;32m--> 166\u001b[0m     \u001b[38;5;28;01mraise\u001b[39;00m HFValidationError(\n\u001b[0;32m    167\u001b[0m         \u001b[38;5;124m\"\u001b[39m\u001b[38;5;124mRepo id must use alphanumeric chars or \u001b[39m\u001b[38;5;124m'\u001b[39m\u001b[38;5;124m-\u001b[39m\u001b[38;5;124m'\u001b[39m\u001b[38;5;124m, \u001b[39m\u001b[38;5;124m'\u001b[39m\u001b[38;5;124m_\u001b[39m\u001b[38;5;124m'\u001b[39m\u001b[38;5;124m, \u001b[39m\u001b[38;5;124m'\u001b[39m\u001b[38;5;124m.\u001b[39m\u001b[38;5;124m'\u001b[39m\u001b[38;5;124m, \u001b[39m\u001b[38;5;124m'\u001b[39m\u001b[38;5;124m--\u001b[39m\u001b[38;5;124m'\u001b[39m\u001b[38;5;124m and \u001b[39m\u001b[38;5;124m'\u001b[39m\u001b[38;5;124m..\u001b[39m\u001b[38;5;124m'\u001b[39m\u001b[38;5;124m are\u001b[39m\u001b[38;5;124m\"\u001b[39m\n\u001b[0;32m    168\u001b[0m         \u001b[38;5;124m\"\u001b[39m\u001b[38;5;124m forbidden, \u001b[39m\u001b[38;5;124m'\u001b[39m\u001b[38;5;124m-\u001b[39m\u001b[38;5;124m'\u001b[39m\u001b[38;5;124m and \u001b[39m\u001b[38;5;124m'\u001b[39m\u001b[38;5;124m.\u001b[39m\u001b[38;5;124m'\u001b[39m\u001b[38;5;124m cannot start or end the name, max length is 96:\u001b[39m\u001b[38;5;124m\"\u001b[39m\n\u001b[0;32m    169\u001b[0m         \u001b[38;5;124mf\u001b[39m\u001b[38;5;124m\"\u001b[39m\u001b[38;5;124m \u001b[39m\u001b[38;5;124m'\u001b[39m\u001b[38;5;132;01m{\u001b[39;00mrepo_id\u001b[38;5;132;01m}\u001b[39;00m\u001b[38;5;124m'\u001b[39m\u001b[38;5;124m.\u001b[39m\u001b[38;5;124m\"\u001b[39m\n\u001b[0;32m    170\u001b[0m     )\n\u001b[0;32m    172\u001b[0m \u001b[38;5;28;01mif\u001b[39;00m \u001b[38;5;124m\"\u001b[39m\u001b[38;5;124m--\u001b[39m\u001b[38;5;124m\"\u001b[39m \u001b[38;5;129;01min\u001b[39;00m repo_id \u001b[38;5;129;01mor\u001b[39;00m \u001b[38;5;124m\"\u001b[39m\u001b[38;5;124m..\u001b[39m\u001b[38;5;124m\"\u001b[39m \u001b[38;5;129;01min\u001b[39;00m repo_id:\n\u001b[0;32m    173\u001b[0m     \u001b[38;5;28;01mraise\u001b[39;00m HFValidationError(\u001b[38;5;124mf\u001b[39m\u001b[38;5;124m\"\u001b[39m\u001b[38;5;124mCannot have -- or .. in repo_id: \u001b[39m\u001b[38;5;124m'\u001b[39m\u001b[38;5;132;01m{\u001b[39;00mrepo_id\u001b[38;5;132;01m}\u001b[39;00m\u001b[38;5;124m'\u001b[39m\u001b[38;5;124m.\u001b[39m\u001b[38;5;124m\"\u001b[39m)\n",
      "\u001b[1;31mHFValidationError\u001b[0m: Repo id must use alphanumeric chars or '-', '_', '.', '--' and '..' are forbidden, '-' and '.' cannot start or end the name, max length is 96: 'BertForMaskedLM(\n  (bert): BertModel(\n    (embeddings): BertEmbeddings(\n      (word_embeddings): Embedding(30522, 768, padding_idx=0)\n      (position_embeddings): Embedding(512, 768)\n      (token_type_embeddings): Embedding(2, 768)\n      (LayerNorm): LayerNorm((768,), eps=1e-12, elementwise_affine=True)\n      (dropout): Dropout(p=0.1, inplace=False)\n    )\n    (encoder): BertEncoder(\n      (layer): ModuleList(\n        (0-11): 12 x BertLayer(\n          (attention): BertAttention(\n            (self): BertSelfAttention(\n              (query): Linear(in_features=768, out_features=768, bias=True)\n              (key): Linear(in_features=768, out_features=768, bias=True)\n              (value): Linear(in_features=768, out_features=768, bias=True)\n              (dropout): Dropout(p=0.1, inplace=False)\n            )\n            (output): BertSelfOutput(\n              (dense): Linear(in_features=768, out_features=768, bias=True)\n              (LayerNorm): LayerNorm((768,), eps=1e-12, elementwise_affine=True)\n              (dropout): Dropout(p=0.1, inplace=False)\n            )\n          )\n          (intermediate): BertIntermediate(\n            (dense): Linear(in_features=768, out_features=3072, bias=True)\n            (intermediate_act_fn): GELUActivation()\n          )\n          (output): BertOutput(\n            (dense): Linear(in_features=3072, out_features=768, bias=True)\n            (LayerNorm): LayerNorm((768,), eps=1e-12, elementwise_affine=True)\n            (dropout): Dropout(p=0.1, inplace=False)\n          )\n        )\n      )\n    )\n  )\n  (cls): BertOnlyMLMHead(\n    (predictions): BertLMPredictionHead(\n      (transform): BertPredictionHeadTransform(\n        (dense): Linear(in_features=768, out_features=768, bias=True)\n        (transform_act_fn): GELUActivation()\n        (LayerNorm): LayerNorm((768,), eps=1e-12, elementwise_affine=True)\n      )\n      (decoder): Linear(in_features=768, out_features=30522, bias=True)\n    )\n  )\n)'."
     ]
    }
   ],
   "source": [
    "harness = Harness(\n",
    "    task=\"question-answering\",\n",
    "    model={\"model\": model, \"hub\":\"huggingface\"},\n",
    "    data={\"data_source\" :\"OpenBookQA\",\n",
    "                        \"split\":\"test\"},\n",
    "    config={\n",
    "         \"evaluation\": {\"metric\":\"string_distance\",\"distance\":\"jaro\",\"threshold\":0.1},\n",
    "         'tests': {'defaults': {'min_pass_rate': 0.65},\n",
    "           'robustness': {'uppercase': {'min_pass_rate': 0.75},\n",
    "                        }\n",
    "          }\n",
    " }\n",
    ")"
   ]
  },
  {
   "cell_type": "code",
   "execution_count": null,
   "id": "6754e358",
   "metadata": {},
   "outputs": [],
   "source": []
  },
  {
   "cell_type": "code",
   "execution_count": null,
   "id": "0939b547",
   "metadata": {},
   "outputs": [],
   "source": []
  },
  {
   "cell_type": "code",
   "execution_count": null,
   "id": "7f68f4c7",
   "metadata": {},
   "outputs": [],
   "source": []
  },
  {
   "cell_type": "code",
   "execution_count": null,
   "id": "61c4f18e",
   "metadata": {},
   "outputs": [],
   "source": []
  },
  {
   "cell_type": "code",
   "execution_count": 27,
   "id": "3da14589",
   "metadata": {},
   "outputs": [
    {
     "data": {
      "text/plain": [
       "transformers.models.t5.modeling_t5.T5ForConditionalGeneration"
      ]
     },
     "execution_count": 27,
     "metadata": {},
     "output_type": "execute_result"
    }
   ],
   "source": [
    "type(model)"
   ]
  },
  {
   "cell_type": "code",
   "execution_count": 17,
   "id": "a7a50c5e",
   "metadata": {},
   "outputs": [
    {
     "data": {
      "text/plain": [
       "'google/flan-t5-base'"
      ]
     },
     "execution_count": 17,
     "metadata": {},
     "output_type": "execute_result"
    }
   ],
   "source": [
    "model.config.name_or_path"
   ]
  },
  {
   "cell_type": "code",
   "execution_count": 18,
   "id": "b00df44e",
   "metadata": {},
   "outputs": [
    {
     "name": "stdout",
     "output_type": "stream",
     "text": [
      "<class 'transformers.models.t5.modeling_t5.T5ForConditionalGeneration'>\n"
     ]
    }
   ],
   "source": [
    "print(type(model))"
   ]
  },
  {
   "cell_type": "code",
   "execution_count": 25,
   "id": "4ab8d380",
   "metadata": {},
   "outputs": [],
   "source": [
    "if str(type(model)).split(\".\")[0]==\"transformers\":\n",
    "    print(\"Yes\")"
   ]
  },
  {
   "cell_type": "code",
   "execution_count": 24,
   "id": "87443a25",
   "metadata": {},
   "outputs": [
    {
     "ename": "AttributeError",
     "evalue": "type object 'T5ForConditionalGeneration' has no attribute 'split'",
     "output_type": "error",
     "traceback": [
      "\u001b[1;31m---------------------------------------------------------------------------\u001b[0m",
      "\u001b[1;31mAttributeError\u001b[0m                            Traceback (most recent call last)",
      "Cell \u001b[1;32mIn[24], line 1\u001b[0m\n\u001b[1;32m----> 1\u001b[0m \u001b[38;5;28;43mtype\u001b[39;49m\u001b[43m(\u001b[49m\u001b[43mmodel\u001b[49m\u001b[43m)\u001b[49m\u001b[38;5;241;43m.\u001b[39;49m\u001b[43msplit\u001b[49m(\u001b[38;5;124m\"\u001b[39m\u001b[38;5;124m.\u001b[39m\u001b[38;5;124m\"\u001b[39m)[\u001b[38;5;241m0\u001b[39m]\n",
      "\u001b[1;31mAttributeError\u001b[0m: type object 'T5ForConditionalGeneration' has no attribute 'split'"
     ]
    }
   ],
   "source": [
    "type(model).split(\".\")[0]"
   ]
  },
  {
   "cell_type": "code",
   "execution_count": 26,
   "id": "cb67bc36",
   "metadata": {},
   "outputs": [
    {
     "data": {
      "text/plain": [
       "\"<class 'transformers\""
      ]
     },
     "execution_count": 26,
     "metadata": {},
     "output_type": "execute_result"
    }
   ],
   "source": [
    "str(type(model)).split(\".\")[0]"
   ]
  },
  {
   "cell_type": "code",
   "execution_count": 28,
   "id": "b77b5bdd",
   "metadata": {
    "scrolled": true
   },
   "outputs": [
    {
     "name": "stdout",
     "output_type": "stream",
     "text": [
      "<class 'transformers.models.t5.modeling_t5.T5ForConditionalGeneration'>\n"
     ]
    }
   ],
   "source": [
    "print(type(model))"
   ]
  },
  {
   "cell_type": "code",
   "execution_count": 29,
   "id": "d742c72f",
   "metadata": {},
   "outputs": [
    {
     "name": "stdout",
     "output_type": "stream",
     "text": [
      "model is an instance of MyModelClass\n"
     ]
    }
   ],
   "source": [
    "# Example class definition\n",
    "class MyModelClass:\n",
    "    # Class definition goes here\n",
    "    pass\n",
    "\n",
    "# Assuming `model` is the object you want to check\n",
    "model = MyModelClass()  # Example instantiation\n",
    "\n",
    "# Check if `model` is an instance of MyModelClass\n",
    "if isinstance(model, MyModelClass):\n",
    "    print(\"model is an instance of MyModelClass\")"
   ]
  },
  {
   "cell_type": "code",
   "execution_count": 30,
   "id": "ccfa5bbc",
   "metadata": {},
   "outputs": [
    {
     "data": {
      "text/plain": [
       "<__main__.MyModelClass at 0x1ee2e772ec0>"
      ]
     },
     "execution_count": 30,
     "metadata": {},
     "output_type": "execute_result"
    }
   ],
   "source": [
    "model"
   ]
  },
  {
   "cell_type": "code",
   "execution_count": null,
   "id": "8aafd7a1",
   "metadata": {},
   "outputs": [],
   "source": []
  }
 ],
 "metadata": {
  "kernelspec": {
   "display_name": "Python 3 (ipykernel)",
   "language": "python",
   "name": "python3"
  },
  "language_info": {
   "codemirror_mode": {
    "name": "ipython",
    "version": 3
   },
   "file_extension": ".py",
   "mimetype": "text/x-python",
   "name": "python",
   "nbconvert_exporter": "python",
   "pygments_lexer": "ipython3",
   "version": "3.10.9"
  }
 },
 "nbformat": 4,
 "nbformat_minor": 5
}
