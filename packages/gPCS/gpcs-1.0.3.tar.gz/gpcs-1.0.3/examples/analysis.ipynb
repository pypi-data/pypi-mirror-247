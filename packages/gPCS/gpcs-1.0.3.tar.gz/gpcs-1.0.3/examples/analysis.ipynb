{
 "cells": [
  {
   "cell_type": "code",
   "execution_count": 1,
   "metadata": {},
   "outputs": [],
   "source": [
    "# install the package first, in case it's not already installed\n",
    "%pip install gPCS"
   ]
  },
  {
   "cell_type": "code",
   "execution_count": 3,
   "metadata": {},
   "outputs": [],
   "source": [
    "import numpy as np\n",
    "from gPCS import gPCS\n",
    "import matplotlib.pyplot as plt\n",
    "import healpy as hp\n",
    "from astropy.io import fits\n",
    "\n",
    "NSIDE = 512"
   ]
  },
  {
   "cell_type": "code",
   "execution_count": 4,
   "metadata": {},
   "outputs": [
    {
     "name": "stdout",
     "output_type": "stream",
     "text": [
      "9604\n",
      "2694\n",
      "1211\n",
      "149\n"
     ]
    }
   ],
   "source": [
    "TS_star = 36\n",
    "# pixels candidates without filtering\n",
    "print(len(gPCS.get_firing_pixels(TS_star, filter=False))) \n",
    "# pixels candidates with filtering of pixels from the simulated 4FGL catalog\n",
    "print(len(gPCS.get_firing_pixels(TS_star, filter=True, conservative=False))) \n",
    "# pixels candidates with conservative filtering of pixels from the simulated 4FGL catalog padded by 1 pixel\n",
    "print(len(gPCS.get_firing_pixels(TS_star, filter=True, conservative=True)))\n",
    "# pixels candidates with conservative filtering of pixels from the simulated 4FGL catalog padded by 1 pixels, \n",
    "# with further removal of pixels within 0.5 deg from ANY resolved 4FGL source (regardless of the TS value of the source in the 1-10 GeV band)\n",
    "print(len(gPCS.get_firing_pixels(TS_star, filter=True, conservative=True, deg=0.5)))"
   ]
  },
  {
   "cell_type": "code",
   "execution_count": 5,
   "metadata": {},
   "outputs": [],
   "source": [
    "alpha=0.01\n",
    "TS_star = gPCS.get_TS_from_QF(0.50, alpha=alpha) # given alpha and QF, we identify the TS value\n",
    "firing_pixels = gPCS.get_firing_pixels(TS_star, filter=False) # we get the pixel candidates\n",
    "TS_ranking = gPCS.TS_map_Fermi[firing_pixels] # we get the TS values for the pixel candidates"
   ]
  },
  {
   "cell_type": "code",
   "execution_count": 6,
   "metadata": {},
   "outputs": [],
   "source": [
    "# we can obtain the galactic coordinates of a pixel using the healpy pix2ang function\n",
    "lon, lat = hp.pix2ang(NSIDE, firing_pixels, lonlat=True) # lon, lat in degrees"
   ]
  },
  {
   "cell_type": "code",
   "execution_count": 7,
   "metadata": {},
   "outputs": [],
   "source": [
    "# given a ranking of TS values, we can compute the associated mean QF and standard deviation\n",
    "# this gives us an information about the QF range that we can expect for a given pixel\n",
    "mean_QF, std_QF = gPCS.get_QF_ranges_from_TS(TS_ranking, alpha=alpha, batches=100, batch_size=3000)"
   ]
  },
  {
   "cell_type": "code",
   "execution_count": 8,
   "metadata": {},
   "outputs": [
    {
     "data": {
      "text/plain": [
       "'firing_pixels_filtered.fits'"
      ]
     },
     "execution_count": 8,
     "metadata": {},
     "output_type": "execute_result"
    }
   ],
   "source": [
    "# create a fits file \n",
    "gPCS.export_fits_table(\"firing_pixels.fits\", 0.5, alpha=[0.01, 0.05, 0.1], overwrite=True)\n",
    "# if we want, we can also apply filtering to the pixel candidates, passign extra keyword arguments\n",
    "gPCS.export_fits_table(\"firing_pixels_filtered.fits\", 0.5, alpha=[0.01, 0.05, 0.1], overwrite=True, filter=True, conservative=True)"
   ]
  },
  {
   "cell_type": "code",
   "execution_count": 9,
   "metadata": {},
   "outputs": [
    {
     "name": "stdout",
     "output_type": "stream",
     "text": [
      "Filename: firing_pixels.fits\n",
      "No.    Name      Ver    Type      Cards   Dimensions   Format\n",
      "  0  PRIMARY       1 PrimaryHDU       4   ()      \n",
      "  1  ALPHA=0.01    1 BinTableHDU     19   10068R x 5C   [K, E, E, E, E]   \n",
      "  2  ALPHA=0.05    1 BinTableHDU     19   9636R x 5C   [K, E, E, E, E]   \n",
      "  3  ALPHA=0.1     1 BinTableHDU     19   9409R x 5C   [K, E, E, E, E]   \n"
     ]
    },
    {
     "data": {
      "text/plain": [
       "None"
      ]
     },
     "metadata": {},
     "output_type": "display_data"
    },
    {
     "data": {
      "text/plain": [
       "XTENSION= 'BINTABLE'           / binary table extension                         \n",
       "BITPIX  =                    8 / array data type                                \n",
       "NAXIS   =                    2 / number of array dimensions                     \n",
       "NAXIS1  =                   24 / length of dimension 1                          \n",
       "NAXIS2  =                10068 / length of dimension 2                          \n",
       "PCOUNT  =                    0 / number of group parameters                     \n",
       "GCOUNT  =                    1 / number of groups                               \n",
       "TFIELDS =                    5 / number of table fields                         \n",
       "TTYPE1  = 'pixel   '                                                            \n",
       "TFORM1  = 'K       '                                                            \n",
       "TTYPE2  = 'TS      '                                                            \n",
       "TFORM2  = 'E       '                                                            \n",
       "TTYPE3  = 'QF_best '                                                            \n",
       "TFORM3  = 'E       '                                                            \n",
       "TTYPE4  = 'QF_min  '                                                            \n",
       "TFORM4  = 'E       '                                                            \n",
       "TTYPE5  = 'QF_max  '                                                            \n",
       "TFORM5  = 'E       '                                                            \n",
       "EXTNAME = 'ALPHA=0.01'         / extension name                                 "
      ]
     },
     "metadata": {},
     "output_type": "display_data"
    },
    {
     "name": "stdout",
     "output_type": "stream",
     "text": [
      "data for alpha=0.01\n"
     ]
    },
    {
     "data": {
      "text/plain": [
       "FITS_rec([( 146881, 6.819703e+05, 1.        , 1.        , 1.        ),\n",
       "          (2545130, 6.438488e+05, 1.        , 1.        , 1.        ),\n",
       "          (2543081, 3.341038e+05, 1.        , 1.        , 1.        ),\n",
       "          ...,\n",
       "          ( 690723, 3.331866e+01, 0.5034965 , 0.49776882, 0.5099845 ),\n",
       "          ( 558036, 3.331725e+01, 0.50312847, 0.49743295, 0.5096404 ),\n",
       "          ( 460713, 3.331335e+01, 0.50257635, 0.49686065, 0.50907266)],\n",
       "         dtype=(numpy.record, [('pixel', '>i8'), ('TS', '>f4'), ('QF_best', '>f4'), ('QF_min', '>f4'), ('QF_max', '>f4')]))"
      ]
     },
     "metadata": {},
     "output_type": "display_data"
    }
   ],
   "source": [
    "# read the fits file\n",
    "with fits.open(\"firing_pixels.fits\") as f:\n",
    "    display(f.info())\n",
    "    display(f[1].header) # type: ignore\n",
    "    data_001 = f[1].data  # type: ignore\n",
    "    data_005 = f[2].data  # type: ignore\n",
    "    data_01  = f[3].data  # type: ignore\n",
    "\n",
    "print(\"data for alpha=0.01\")\n",
    "display(data_001)"
   ]
  }
 ],
 "metadata": {
  "kernelspec": {
   "display_name": "EPLS",
   "language": "python",
   "name": "python3"
  },
  "language_info": {
   "codemirror_mode": {
    "name": "ipython",
    "version": 3
   },
   "file_extension": ".py",
   "mimetype": "text/x-python",
   "name": "python",
   "nbconvert_exporter": "python",
   "pygments_lexer": "ipython3",
   "version": "3.11.3"
  },
  "orig_nbformat": 4
 },
 "nbformat": 4,
 "nbformat_minor": 2
}
