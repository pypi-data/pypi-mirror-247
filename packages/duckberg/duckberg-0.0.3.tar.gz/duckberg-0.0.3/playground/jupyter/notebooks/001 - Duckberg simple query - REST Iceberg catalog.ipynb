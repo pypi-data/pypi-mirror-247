{
 "cells": [
  {
   "cell_type": "code",
   "execution_count": null,
   "id": "095e2644",
   "metadata": {
    "collapsed": false,
    "jupyter": {
     "outputs_hidden": false
    },
    "pycharm": {
     "name": "#%%\n"
    }
   },
   "outputs": [],
   "source": [
    "from duckberg import DuckBerg"
   ]
  },
  {
   "cell_type": "markdown",
   "id": "5e701460-b715-4f05-8ef0-3734095e220c",
   "metadata": {
    "pycharm": {
     "name": "#%% md\n"
    }
   },
   "source": [
    "## Init catalog config and connection properties"
   ]
  },
  {
   "cell_type": "code",
   "execution_count": null,
   "id": "a341c51f",
   "metadata": {
    "collapsed": false,
    "jupyter": {
     "outputs_hidden": false
    },
    "pycharm": {
     "name": "#%%\n"
    }
   },
   "outputs": [],
   "source": [
    "MINIO_URI = \"http://minio:9000/\"\n",
    "MINIO_USER = \"admin\"\n",
    "MINIO_PASSWORD = \"password\"\n",
    "\n",
    "catalog_config: dict[str, str] = {\n",
    "  \"type\": \"rest\",\n",
    "  \"uri\": \"http://iceberg-rest:8181/\",\n",
    "  \"credentials\": \"admin:password\",\n",
    "  \"s3.endpoint\": MINIO_URI,\n",
    "  \"s3.access-key-id\": MINIO_USER,\n",
    "  \"s3.secret-access-key\": MINIO_PASSWORD\n",
    "}"
   ]
  },
  {
   "cell_type": "markdown",
   "id": "6af6f2fc-7da6-4f86-9db1-2ee78b18bcc0",
   "metadata": {
    "pycharm": {
     "name": "#%% md\n"
    }
   },
   "source": [
    "## Duckberg initialisation"
   ]
  },
  {
   "cell_type": "code",
   "execution_count": null,
   "id": "5ccbb8f3",
   "metadata": {
    "collapsed": false,
    "jupyter": {
     "outputs_hidden": false
    },
    "pycharm": {
     "name": "#%%\n"
    }
   },
   "outputs": [],
   "source": [
    "db = DuckBerg(\n",
    "     catalog_name=\"warehouse\",\n",
    "     catalog_config=catalog_config)"
   ]
  },
  {
   "cell_type": "markdown",
   "id": "269cf9ae-9602-42b1-89ae-26a2d5b059c2",
   "metadata": {
    "pycharm": {
     "name": "#%% md\n"
    }
   },
   "source": [
    "## List tables"
   ]
  },
  {
   "cell_type": "code",
   "execution_count": null,
   "id": "4eb89548",
   "metadata": {
    "collapsed": false,
    "jupyter": {
     "outputs_hidden": false
    },
    "pycharm": {
     "name": "#%%\n"
    }
   },
   "outputs": [],
   "source": [
    "tables = db.list_tables()\n",
    "tables"
   ]
  },
  {
   "cell_type": "markdown",
   "id": "2eb896f2-60f4-4516-ad9b-e500d1df070a",
   "metadata": {
    "pycharm": {
     "name": "#%% md\n"
    }
   },
   "source": [
    "## List partitions\n",
    "To see what partitions you can use afterward in the partitions filters"
   ]
  },
  {
   "cell_type": "code",
   "execution_count": null,
   "id": "0fc64b12",
   "metadata": {
    "collapsed": false,
    "jupyter": {
     "outputs_hidden": false
    },
    "pycharm": {
     "name": "#%%\n"
    }
   },
   "outputs": [],
   "source": [
    "partitions = db.list_partitions(table=\"nyc.taxis\")\n",
    "partitions"
   ]
  },
  {
   "cell_type": "markdown",
   "id": "8d878f78-6eef-4290-a37c-5e83472c8e5e",
   "metadata": {
    "pycharm": {
     "name": "#%% md\n"
    }
   },
   "source": [
    "## Query data - filter by partition\n",
    "With usage of partition filter to read data just from files we need."
   ]
  },
  {
   "cell_type": "code",
   "execution_count": null,
   "id": "259c91d0-4988-40a4-9e6c-94a381e065c1",
   "metadata": {
    "pycharm": {
     "name": "#%%\n"
    }
   },
   "outputs": [],
   "source": [
    "query = \"SELECT * FROM 'nyc.taxis' WHERE trip_distance > 40 ORDER BY tolls_amount DESC\"\n",
    "df = db.select(table=\"nyc.taxis\", partition_filter=\"payment_type = 1\", sql=query).read_pandas()\n",
    "df.head(10)"
   ]
  },
  {
   "cell_type": "markdown",
   "id": "bac7e96c-6f6a-4f20-b077-d687a3981b19",
   "metadata": {
    "pycharm": {
     "name": "#%% md\n"
    }
   },
   "source": [
    "## Query data - group by "
   ]
  },
  {
   "cell_type": "code",
   "execution_count": null,
   "id": "127818ad-080d-44f4-907e-e74fef0fe58a",
   "metadata": {
    "pycharm": {
     "name": "#%%\n"
    }
   },
   "outputs": [],
   "source": [
    "query = \"SELECT passenger_count, AVG(tip_amount) as tip_amount_sum FROM 'nyc.taxis' GROUP BY passenger_count\"\n",
    "df = db.select(table=\"nyc.taxis\", partition_filter=\"payment_type = 1\", sql=query).read_pandas()\n",
    "df.head(10)"
   ]
  }
 ],
 "metadata": {
  "kernelspec": {
   "display_name": "Python 3 (ipykernel)",
   "language": "python",
   "name": "python3"
  },
  "language_info": {
   "codemirror_mode": {
    "name": "ipython",
    "version": 3
   },
   "file_extension": ".py",
   "mimetype": "text/x-python",
   "name": "python",
   "nbconvert_exporter": "python",
   "pygments_lexer": "ipython3",
   "version": "3.11.6"
  }
 },
 "nbformat": 4,
 "nbformat_minor": 5
}
