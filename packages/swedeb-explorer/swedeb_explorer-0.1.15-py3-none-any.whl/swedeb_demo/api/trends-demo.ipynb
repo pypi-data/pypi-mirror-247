{
 "cells": [
  {
   "attachments": {},
   "cell_type": "markdown",
   "metadata": {},
   "source": [
    "# The Codecs and PersonCodec Classes\n",
    "\n",
    "`Codecs` is a container class for managing ParlaCLARIN categorical (key/value) data i.e. mappings of integer data to text data. It exposes the data itself (as a number of Pandas dataframes), and a set of utility functions for working with the data e.q. encoding & decoding data.\n",
    "\n",
    "| Table           | Id                 | Description              |\n",
    "| --------------- | ------------------ | ------------------------ |\n",
    "| chamber         | chamber_id         | List of chambers         |\n",
    "| gender          | gender_id          | List of genders          |\n",
    "| government      | government_id      | List of governments      |\n",
    "| party           | party_id           | List of partys           |\n",
    "| office_type     | office_type_id     | List of office types     |\n",
    "| sub_office_type | sub_office_type_id | List of sub office types |\n",
    "\n",
    "`PersonCodecs` is a derived class that also include individual data from the `persons_of_interest`. This is a processed version of information found in `person.csv` metadata, and includes only personons that has speeches in the corpus, and with some additional columns.\n"
   ]
  },
  {
   "attachments": {},
   "cell_type": "markdown",
   "metadata": {},
   "source": [
    "# The TrendData class\n",
    "\n",
    "The `riksprot.TrendsData` class computes word trends using filters and pivot keys found in the `PersonCodecs` container. It is based on the `penelope.TrendsData` class with some minor additions.\n",
    "\n",
    "The class has the following data members:\n",
    "\n",
    "| Member             | Type              | Description                         |\n",
    "| ------------------ | ----------------- | ----------------------------------- |\n",
    "| corpus             | VectorizedCorpus  | Original source corpus              |\n",
    "| compute_opts       | TrendsComputeOpts | Current compute options (see below) |\n",
    "| transformed_corpus | VectorizedCorpus  | Transformed (computed) corpus       |\n",
    "| n_top              | int               | Top count constraint                |\n",
    "| person_codecs      | PersonCodecs      | Codecs helper class                 |\n",
    "| tabular_compiler   | TabularCompiler   | Result compiler                     |\n",
    "| _gof_data_         | _GofData_         | _Godness of fit data (ignore)_      |\n",
    "\n",
    "And the following methods:\n",
    "\n",
    "| Method            | Signature                             | Description                                                                                                                                              |\n",
    "| ----------------- | ------------------------------------- | -------------------------------------------------------------------------------------------------------------------------------------------------------- |\n",
    "| transform         | _opts: TrendsComputeOpts -> self_     | Transforms `corpus` to `transformed_corpus` using `opts`                                                                                                 |\n",
    "| extract           | _(indices, filters) -> pd.DataFrame_  | Extract pd.DataFrame using current compiler.                                                                                                             |\n",
    "| reset             | _\\_ -> self_                          | Reset corpus and compute opts to default                                                                                                                 |\n",
    "| find_word_indices | _opts -> sequence[int]_               | Find indicies for matching words (accepts wildcards and regex). Delegates to `transform_corpus.find_matching_words_indices(opts.words, opts.top_count)`. |\n",
    "| find_words        | _opts -> sequence[str]_               | Find matching words (accepts wildcards and regex). Delegates to `transform_corpus.find_matching_words(opts.words, opts.top_count)`.                      |\n",
    "| get_top_terms     | _(int,kind,category) -> pd.DataFrame_ |\n",
    "\n",
    "The avaliable `ComputeOpts` attributes are:\n",
    "\n",
    "| Attribute           | Type                       | Description                                                    |\n",
    "| ------------------- | -------------------------- | -------------------------------------------------------------- |\n",
    "| normalize           | bool                       | Normalize data flag.                                           |\n",
    "| keyness             | pk.KeynessMetric           | Keyness metric to use `TF`, `TF (norm)` or `TF-IDF`            |\n",
    "| temporal_key        | str                        | Temporal pivot key: `year`, `lustrum` or `decade`              |\n",
    "| pivot_keys_id_names | list[str]                  | List of pivot key ID names                                     |\n",
    "| filter_opts         | `PropertyValueMaskingOpts` | Key/value filter of resulting data (extract)                   |\n",
    "| unstack_tabular     | bool                       | Unstack result i.e. return columns instead of categorical rows |\n",
    "| fill_gaps           | bool                       | Fill empty/missing temporal category values                    |\n",
    "| smooth              | bool                       | Return smoothed, interpolated data (for line plot)             |\n",
    "| top_count           | int                        |\n",
    "| words               | list[str]                  | List of word/patterns of interest                              |\n",
    "| descending          | bool                       | Result sort order                                              |\n",
    "| keyness_source      | pk.KeynessMetricSource     | Ignore (only valid for co-occurrence trends)                   |\n",
    "\n",
    "The avaliable `ComputeOpts` attributes are:\n",
    "\n",
    "| Method             | Signature                          | Description                                           |\n",
    "| ------------------ | ---------------------------------- | ----------------------------------------------------- |\n",
    "| invalidates_corpus | _other: TrendsComputeOpts -> bool_ | Checks if `other` opts invalidates transformed corpus |\n",
    "| clone              | \\*\\_ -> TrendsComputeOpts          | Creates a clone                                       |\n"
   ]
  },
  {
   "attachments": {},
   "cell_type": "markdown",
   "metadata": {},
   "source": [
    "### Example\n",
    "\n",
    "Load a DTM corpus.\n"
   ]
  },
  {
   "cell_type": "code",
   "execution_count": 9,
   "metadata": {},
   "outputs": [],
   "source": [
    "import __paths__\n",
    "\n",
    "from parlaclarin import codecs as md\n",
    "from parlaclarin.trends_data import SweDebTrendsData, SweDebComputeOpts\n",
    "from penelope.common.keyness import KeynessMetric\n",
    "from penelope.corpus import VectorizedCorpus\n",
    "from penelope.utility import PropertyValueMaskingOpts\n",
    "\n",
    "import pandas as pd\n",
    "\n",
    "pd.set_option(\"display.max_columns\", 500)\n",
    "pd.set_option(\"display.width\", 1500)\n",
    "\n",
    "dtm_folder: str = \"/Users/rewe0027/src/sample-data/data/dataset-01/v0.6.0/dtm/lemma\"\n",
    "dtm_tag: str = \"lemma\"\n",
    "\n",
    "corpus: VectorizedCorpus = VectorizedCorpus.load(folder=dtm_folder, tag=dtm_tag)"
   ]
  },
  {
   "attachments": {},
   "cell_type": "markdown",
   "metadata": {},
   "source": [
    "Load corpus metadata (speakers and codes)\n"
   ]
  },
  {
   "cell_type": "code",
   "execution_count": 4,
   "metadata": {},
   "outputs": [
    {
     "name": "stdout",
     "output_type": "stream",
     "text": [
      "                         name  year_of_birth  year_of_death  has_multiple_parties   gender party_abbrev person_id\n",
      "person_id                                                                                                        \n",
      "Q53707          Tage Erlander           1901           1985                     0      man            S    Q53707\n",
      "Q5887636    Rune B. Johansson           1915           1982                     0      man            S  Q5887636\n",
      "unknown                                    0              0                     0  unknown            ?   unknown\n",
      "Q1606431         Henry Allard           1911           1996                     0      man            S  Q1606431\n",
      "Q707581    Ingemund Bengtsson           1919           2000                     0      man            S   Q707581\n",
      "                         name  year_of_birth  year_of_death  has_multiple_parties   gender party_abbrev person_id\n",
      "person_id                                                                                                        \n",
      "Q53707          Tage Erlander           1901           1985                     0      man            S    Q53707\n",
      "Q5887636    Rune B. Johansson           1915           1982                     0      man            S  Q5887636\n",
      "unknown                                    0              0                     0  unknown            ?   unknown\n",
      "Q1606431         Henry Allard           1911           1996                     0      man            S  Q1606431\n",
      "Q707581    Ingemund Bengtsson           1919           2000                     0      man            S   Q707581\n",
      "[{'text_name': 'gender', 'id_name': 'gender_id', 'values': {'unknown': 0, 'man': 1, 'woman': 2}}, {'text_name': 'office_type', 'id_name': 'office_type_id', 'values': {'unknown': 0, 'Ledamot': 1, 'Minister': 2, 'Talman': 3}}, {'text_name': 'party_abbrev', 'id_name': 'party_id', 'values': {'?': 0, 'X': 1, 'C': 2, 'KD': 3, 'SP': 4, 'L': 5, 'MP': 6, 'M': 7, 'NYD': 8, 'S': 9, 'SD': 10, 'V': 11, 'FRIS': 12, 'APK': 13}}, {'text_name': 'sub_office_type', 'id_name': 'sub_office_type_id', 'values': {'unknown': 0, 'Ledamot av första kammaren': 1, 'Ledamot av andra kammaren': 2, 'ledamot av Sveriges riksdag': 3, 'minister (ospecificerad)': 4, 'talman (ospecificerad)': 5, 'Statsministerns ställföretädare': 6, 'arbetsmarknadsminister': 7, 'biträdande finansminister': 8, 'bostadsminister': 9, 'budgetminister': 10, 'civilminister': 11, 'ecklesiastikminister': 12, 'ekonomiminister': 13, 'finansminister': 14, 'folkhushållningsminister': 15, 'försvarsminister': 16, 'handelsminister': 17, 'infrastrukturminister': 18, 'inrikesminister': 19, 'jordbruksminister': 20, 'justitieminister': 21, 'kommunikationsminister': 22, 'konsultativt statsråd': 23, 'landsbygdsminister': 24, 'löneminister': 25, 'miljöminister': 26, 'minister för nordiskt samarbete': 27, 'näringsminister': 28, 'samordningsminister': 29, 'skolminister': 30, 'socialminister': 31, 'statsminister': 32, 'utbildningsminister': 33, 'utrikesminister': 34, 'Sveriges riksdags talman': 35, 'andra kammarens andre vice talman': 36, 'andra kammarens förste vice talman': 37, 'andra kammarens talman': 38, 'andre vice talman i första kammaren': 39, 'första kammarens talman': 40}}, {'text_name': 'name', 'id_name': 'pid', 'values': {'Tage Erlander (Q53707)': 0, 'Rune B. Johansson (Q5887636)': 1, ' (unknown)': 2, 'Henry Allard (Q1606431)': 3, 'Ingemund Bengtsson (Q707581)': 4, 'Johan A. Olsson (Q6027171)': 5, 'Holge Ottosson (Q6031148)': 6, 'Sven Nyman (Q6020187)': 7, 'Karl Pettersson (Q6047050)': 8, 'Krister Wickman (Q3376192)': 9, 'Henrik Åkerlund (Q6255268)': 10, 'Gunnar Lange (Q6146893)': 11, 'Hans Lindblad (Q5954195)': 12, 'Bertil Petersson (Q6044930)': 13, 'Thorsten Larsson (Q5938913)': 14, 'Gunnar Wallmark (Q6231399)': 15, 'Egon Andreasson (Q5348198)': 16, 'Alvar Mårtensson (Q6000480)': 17, 'Lars Larsson (Q5937997)': 18, 'Ingvar Carlsson (Q53740)': 19, 'Eric Holmqvist (Q2345137)': 20, 'Rolf Kaijser (Q5897318)': 21, 'Bengt Norling (Q6017016)': 22, 'Torsten Hansson (Q5789726)': 23, 'Kjell-Olof Feldt (Q927466)': 24, 'Arvid Annerås (Q5557484)': 25, 'Sven Aspling (Q5561426)': 26, 'Kaj Björk (Q5577506)': 27, 'Bertil Löfberg (Q5969341)': 28, 'Ethel Florén-Winther (Q108219916)': 29, 'Sven Moberg (Q5989925)': 30, 'Tage Johansson (Q5887928)': 31, 'Bo Skårman (Q6180594)': 32, 'Nils Hjorth (Q5807811)': 33, 'Göran Karlsson (Q2954414)': 34, 'Jan-Erik Wikström (Q6340136)': 35, 'Ingrid Segerstedt Wiberg (Q3379728)': 36, 'Gunnar Richardson (Q6070749)': 37, 'Georg Pettersson (Q6046795)': 38, 'Lars Werner (Q369024)': 39, 'Allan Hernelius (Q5802833)': 40, 'Axel Andersson (Q5554059)': 41, 'Lisa Mattson (Q4966432)': 42, 'Erik Alexanderson (Q5546257)': 43, 'Sven-Otto Österdahl (Q6257757)': 44, 'Lars Schött (Q6170780)': 45, 'Ferdinand Nilsson (Q6010180)': 46, 'Arne Svenungsson (Q116040430)': 47, 'Nils Ståhle (Q6194302)': 48, 'Erik Boheman (Q3424655)': 49, 'John Ericsson (Q5715273)': 50, 'Harald Hallén (Q5784568)': 51, 'Martin Skoglund (Q6180020)': 52, 'Henrik Munktell den yngre (Q5997101)': 53, 'Einar Rimmerfors (Q6072689)': 54, 'Knut Senander (Q6172705)': 55, 'Folke Björkman (Q5577840)': 56, 'Folke Nihlfors (Q6156731)': 57, 'John Eriksson (Q5716662)': 58, 'Oscar Malmborg (Q6151901)': 59, 'Astrid Bergegren (Q4938354)': 60, 'Evert Svensson (Q6198452)': 61, 'Anders Haglund (Q5782529)': 62, 'Carl-Wilhelm Lothigius (Q5963832)': 63, 'Sven Gustafson (Q5777440)': 64, 'Erik Adamsson (Q5551491)': 65, 'Margit Vinge (Q4984675)': 66, 'Erik Hagberg (Q5781896)': 67, 'Yngve Nilsson (Q6012223)': 68, 'James Dickson (Q5621600)': 69, 'Per Svensson (Q6199074)': 70, 'Fridolf Thapper (Q6206899)': 71, 'Bertil Ohlin (Q179493)': 72, 'Gustaf Sundelin (Q6195774)': 73, 'Ivar Johansson (Q5886385)': 74, 'Birger Lundström (Q5967746)': 75, 'Per Edvin Sköld (Q6180686)': 76, 'Lisa Johansson (Q4957038)': 77, 'Gunnar Hedlund (Q514209)': 78, 'Gunnar Heckscher (Q1554742)': 79}}]\n"
     ]
    }
   ],
   "source": [
    "\n",
    "codecs: md.PersonCodecs = md.PersonCodecs().load(source=\"/Users/rewe0027/src/sample-data/data/dataset-01/v0.6.0/riksprot_metadata.db\")\n",
    "\n",
    "\"\"\" Speakers metadata with encoded ids \"\"\"\n",
    "persons: pd.DataFrame = codecs.persons_of_interest.head().copy()\n",
    "\n",
    "\"\"\"Decoded speakers' metadata\"\"\"\n",
    "print(codecs.decode(persons))\n",
    "\n",
    "\"\"\"Decode speakers' metadata but keep ids\"\"\"\n",
    "print(codecs.decode(persons, drop=False))\n",
    "\n",
    "\"\"\"Print specification of metadata properties (and actual data).\"\"\"\n",
    "\"\"\"Can be used to create a GUI for selecting metadata properties and values for display, grouping and filtering\"\"\"\n",
    "print(codecs.property_values_specs)"
   ]
  },
  {
   "attachments": {},
   "cell_type": "markdown",
   "metadata": {},
   "source": [
    "Compute word trends.\n"
   ]
  },
  {
   "cell_type": "code",
   "execution_count": 10,
   "metadata": {},
   "outputs": [
    {
     "name": "stdout",
     "output_type": "stream",
     "text": [
      "   year  party_id  sverige  jag\n",
      "0  1960         5        1    1\n",
      "1  1960         9        0    5\n",
      "2  1961         9        1    3\n",
      "3  1970         5        3   32\n",
      "4  1970         7        0   50\n",
      "   year  party_id  finland\n",
      "0  1960         5        0\n",
      "1  1960         9        0\n",
      "2  1961         9        0\n",
      "3  1970         5        1\n",
      "4  1970         7        0\n"
     ]
    }
   ],
   "source": [
    "\"\"\"Compute trends \n",
    "    - group by \"year\" (temporal key) and party\n",
    "    - return absolute frequencies (keyness=KeynessMetric.TF)\n",
    "    - do not normalize\n",
    "    - do not fill temporal gaps (items with zero frequency)\n",
    "    - do not smooth (interpolate values, adds additional categories)\n",
    "    - return atmost 100 words\n",
    "    - do not unstack tabular data (keep party as column)\n",
    "\"\"\"\n",
    "\n",
    "trends_data: SweDebTrendsData = SweDebTrendsData(corpus=corpus, person_codecs=codecs, n_top=100000)\n",
    "\n",
    "opts: SweDebComputeOpts = SweDebComputeOpts(\n",
    "    fill_gaps=False,\n",
    "    keyness=KeynessMetric.TF,\n",
    "    normalize=False,\n",
    "    pivot_keys_id_names=[\"party_id\"],\n",
    "    filter_opts=PropertyValueMaskingOpts(gender_id=2),\n",
    "    smooth=False,\n",
    "    temporal_key=\"year\",\n",
    "    top_count=100,\n",
    "    unstack_tabular=False,\n",
    "    words=None,\n",
    ")\n",
    "\n",
    "trends_data.transform(opts)\n",
    "\n",
    "opts.words = words=[\"sverige\", \"jag\"]\n",
    "\n",
    "# FIXME: Extend API so that extract can take a list of words \n",
    "trends: pd.DataFrame = trends_data.extract(indices=trends_data.find_word_indices(opts))\n",
    "\n",
    "print(trends.head())\n",
    "\n",
    "opts.words = words=[\"finland\", \"du\"]\n",
    "print(trends_data.extract(indices=trends_data.find_word_indices(opts)).head())\n",
    "\n",
    "\n",
    "# trends_data.transformed_corpus.find_matching_words_indices(\n",
    "#     word_or_regexp=[\"sverige\", \"jag\"], n_max_count=100, descending=False\n",
    "# )"
   ]
  },
  {
   "cell_type": "code",
   "execution_count": 6,
   "metadata": {},
   "outputs": [
    {
     "name": "stdout",
     "output_type": "stream",
     "text": [
      "   year  party_id  finland\n",
      "0  1960         5        0\n",
      "1  1960         9        0\n",
      "2  1961         9        0\n",
      "3  1970         5        1\n",
      "4  1970         7        0\n",
      "   year  finland party_abbrev\n",
      "0  1960        0            L\n",
      "1  1960        0            S\n",
      "2  1961        0            S\n",
      "3  1970        1            L\n",
      "4  1970        0            M\n"
     ]
    },
    {
     "data": {
      "text/plain": [
       "[167, 6]"
      ]
     },
     "execution_count": 6,
     "metadata": {},
     "output_type": "execute_result"
    }
   ],
   "source": [
    "\"\"\"Decode any encoded ids in the trends data frame\"\"\"\n",
    "\n",
    "picked_indices = trends_data.find_word_indices(opts)\n",
    "\n",
    "trends: pd.DataFrame = trends_data.extract(indices=picked_indices)\n",
    "\n",
    "print(trends.head())\n",
    "\n",
    "\"\"\"Decode any encoded ids in the trends data frame\"\"\"\n",
    "print(trends_data.person_codecs.decode(trends).head())\n",
    "\n",
    "# Find indices of picked words from corpus\n",
    "trends_data.transformed_corpus.find_matching_words_indices(\n",
    "    word_or_regexp=[\"sverige\", \"jag\"], n_max_count=100, descending=False\n",
    ")"
   ]
  },
  {
   "cell_type": "code",
   "execution_count": null,
   "metadata": {},
   "outputs": [],
   "source": []
  }
 ],
 "metadata": {
  "kernelspec": {
   "display_name": "Python 3 (ipykernel)",
   "language": "python",
   "name": "python3"
  },
  "language_info": {
   "codemirror_mode": {
    "name": "ipython",
    "version": 3
   },
   "file_extension": ".py",
   "mimetype": "text/x-python",
   "name": "python",
   "nbconvert_exporter": "python",
   "pygments_lexer": "ipython3",
   "version": "3.9.10"
  }
 },
 "nbformat": 4,
 "nbformat_minor": 4
}
